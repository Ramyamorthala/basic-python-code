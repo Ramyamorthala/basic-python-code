{
 "cells": [
  {
   "cell_type": "code",
   "execution_count": null,
   "id": "f446c4d5-0ded-4db5-8087-70eeb6fa6369",
   "metadata": {},
   "outputs": [],
   "source": [
    "#Errors \n",
    "#3 types \n",
    "1. #compile time error\n",
    "2. #Logical error\n",
    "3. #Runtime error"
   ]
  },
  {
   "cell_type": "code",
   "execution_count": 1,
   "id": "92067578-4f7f-44dc-a484-9107b5eafba7",
   "metadata": {},
   "outputs": [
    {
     "name": "stdout",
     "output_type": "stream",
     "text": [
      "2.5\n",
      "bye\n"
     ]
    }
   ],
   "source": [
    "a = 5\n",
    "b = 2 \n",
    "print(a/b)\n",
    "print('bye')"
   ]
  },
  {
   "cell_type": "code",
   "execution_count": 3,
   "id": "1032f642-6125-4504-b143-850b0d0cece6",
   "metadata": {},
   "outputs": [
    {
     "ename": "ZeroDivisionError",
     "evalue": "division by zero",
     "output_type": "error",
     "traceback": [
      "\u001b[1;31m---------------------------------------------------------------------------\u001b[0m",
      "\u001b[1;31mZeroDivisionError\u001b[0m                         Traceback (most recent call last)",
      "Cell \u001b[1;32mIn[3], line 3\u001b[0m\n\u001b[0;32m      1\u001b[0m c \u001b[38;5;241m=\u001b[39m \u001b[38;5;241m5\u001b[39m\n\u001b[0;32m      2\u001b[0m d \u001b[38;5;241m=\u001b[39m \u001b[38;5;241m0\u001b[39m \n\u001b[1;32m----> 3\u001b[0m \u001b[38;5;28mprint\u001b[39m(c\u001b[38;5;241m/\u001b[39md)\n",
      "\u001b[1;31mZeroDivisionError\u001b[0m: division by zero"
     ]
    }
   ],
   "source": [
    "c = 5\n",
    "d = 0 \n",
    "print(c/d)"
   ]
  },
  {
   "cell_type": "code",
   "execution_count": 7,
   "id": "b49188b5-f7be-46b1-9195-24ab779be207",
   "metadata": {},
   "outputs": [
    {
     "name": "stdout",
     "output_type": "stream",
     "text": [
      "0\n",
      "bye\n"
     ]
    }
   ],
   "source": [
    "c = 5 \n",
    "d = 0\n",
    "print(d//c)\n",
    "print('bye')"
   ]
  },
  {
   "cell_type": "code",
   "execution_count": 9,
   "id": "6865744b-99c3-45b3-9415-0c322bda3913",
   "metadata": {},
   "outputs": [
    {
     "name": "stdout",
     "output_type": "stream",
     "text": [
      "bye\n"
     ]
    },
    {
     "ename": "ZeroDivisionError",
     "evalue": "division by zero",
     "output_type": "error",
     "traceback": [
      "\u001b[1;31m---------------------------------------------------------------------------\u001b[0m",
      "\u001b[1;31mZeroDivisionError\u001b[0m                         Traceback (most recent call last)",
      "Cell \u001b[1;32mIn[9], line 6\u001b[0m\n\u001b[0;32m      2\u001b[0m d \u001b[38;5;241m=\u001b[39m \u001b[38;5;241m0\u001b[39m\n\u001b[0;32m      4\u001b[0m \u001b[38;5;28mprint\u001b[39m(\u001b[38;5;124m'\u001b[39m\u001b[38;5;124mbye\u001b[39m\u001b[38;5;124m'\u001b[39m)\n\u001b[1;32m----> 6\u001b[0m \u001b[38;5;28mprint\u001b[39m(c\u001b[38;5;241m/\u001b[39md)\n",
      "\u001b[1;31mZeroDivisionError\u001b[0m: division by zero"
     ]
    }
   ],
   "source": [
    "c = 5\n",
    "d = 0\n",
    "\n",
    "print('bye')\n",
    "\n",
    "print(c/d)"
   ]
  },
  {
   "cell_type": "code",
   "execution_count": 11,
   "id": "32aa8b3b-8f91-4f47-9bbb-9e5c2016a291",
   "metadata": {},
   "outputs": [
    {
     "ename": "ZeroDivisionError",
     "evalue": "division by zero",
     "output_type": "error",
     "traceback": [
      "\u001b[1;31m---------------------------------------------------------------------------\u001b[0m",
      "\u001b[1;31mZeroDivisionError\u001b[0m                         Traceback (most recent call last)",
      "Cell \u001b[1;32mIn[11], line 3\u001b[0m\n\u001b[0;32m      1\u001b[0m c \u001b[38;5;241m=\u001b[39m \u001b[38;5;241m5\u001b[39m\n\u001b[0;32m      2\u001b[0m d \u001b[38;5;241m=\u001b[39m \u001b[38;5;241m0\u001b[39m\n\u001b[1;32m----> 3\u001b[0m \u001b[38;5;28mprint\u001b[39m(c\u001b[38;5;241m/\u001b[39md)\n\u001b[0;32m      5\u001b[0m \u001b[38;5;28mprint\u001b[39m(\u001b[38;5;124m'\u001b[39m\u001b[38;5;124mbye\u001b[39m\u001b[38;5;124m'\u001b[39m)\n",
      "\u001b[1;31mZeroDivisionError\u001b[0m: division by zero"
     ]
    }
   ],
   "source": [
    "c = 5\n",
    "d = 0\n",
    "print(c/d)\n",
    "\n",
    "print('bye')"
   ]
  },
  {
   "cell_type": "markdown",
   "id": "389ebc88-188e-4b15-9427-910395bea5e8",
   "metadata": {},
   "source": [
    "# exception handling"
   ]
  },
  {
   "cell_type": "code",
   "execution_count": 13,
   "id": "9be319f5-7845-42e9-96dc-91b78702fd10",
   "metadata": {},
   "outputs": [
    {
     "name": "stdout",
     "output_type": "stream",
     "text": [
      "hey you cannot divide number by zero\n",
      "bye\n"
     ]
    }
   ],
   "source": [
    "c = 3\n",
    "d = 0\n",
    "\n",
    "try:\n",
    "    print(c/d)   #if this code gives error(zero division error),then except the exception(handle the exception) and print the message\n",
    "\n",
    "#if there is no zero division error,then we donot need to handle the exception\n",
    "\n",
    "except Exception:\n",
    "    print('hey you cannot divide number by zero')\n",
    "\n",
    "print('bye')\n"
   ]
  },
  {
   "cell_type": "code",
   "execution_count": 15,
   "id": "3c469312-7545-4a7c-bc93-94a5e2fee093",
   "metadata": {},
   "outputs": [
    {
     "name": "stdout",
     "output_type": "stream",
     "text": [
      "0.0\n",
      "bye\n"
     ]
    }
   ],
   "source": [
    "c = 3\n",
    "d = 0\n",
    "\n",
    "try:\n",
    "    print(d/c)\n",
    "\n",
    "except Exception: #skip the exception(when try block doesnt give error)\n",
    "    print('hey you cannot divide number by zero') #as there is no zero divison error , handling the exception is not required .hence statement is not printed\n",
    "\n",
    "print('bye')"
   ]
  },
  {
   "cell_type": "code",
   "execution_count": 17,
   "id": "75f3c62e-1634-40d7-8958-6453e1681b30",
   "metadata": {},
   "outputs": [
    {
     "name": "stdout",
     "output_type": "stream",
     "text": [
      "1.0\n",
      "bye\n"
     ]
    }
   ],
   "source": [
    "c = 3 \n",
    "d = 3\n",
    "\n",
    "try:\n",
    "    print(d/c)\n",
    "\n",
    "except Exception: #skip the exception\n",
    "    print('hey you cannot divide number by zero')\n",
    "\n",
    "print('bye')"
   ]
  },
  {
   "cell_type": "code",
   "execution_count": 19,
   "id": "16ef53ba-351d-4386-9c02-be1fa5518863",
   "metadata": {},
   "outputs": [
    {
     "name": "stdout",
     "output_type": "stream",
     "text": [
      "hey you cannot divide number by zero : division by zero\n",
      "bye\n"
     ]
    }
   ],
   "source": [
    "c = 3\n",
    "d = 0\n",
    "\n",
    "try:\n",
    "    print(c/d)\n",
    "\n",
    "except Exception as e : #by using 'e' in the sentence (except the exception) we can get the type of error along with the statement\n",
    "    print('hey you cannot divide number by zero' , ':' , e)\n",
    "\n",
    "print('bye')"
   ]
  },
  {
   "cell_type": "code",
   "execution_count": 25,
   "id": "2026076c-ac24-4b1e-b7a9-60e8c1bde1bc",
   "metadata": {},
   "outputs": [
    {
     "name": "stdout",
     "output_type": "stream",
     "text": [
      "resources open\n",
      "1.0\n",
      "resources closed\n"
     ]
    }
   ],
   "source": [
    "c = 3\n",
    "d = 3\n",
    "\n",
    "try:\n",
    "    print('resources open')\n",
    "    print(c/d)\n",
    "    print('resources closed')\n",
    "\n",
    "except Exception as e:\n",
    "    print('hey you cannot divide number by zero' , ':' , e)\n",
    "\n",
    "#every time we open a file or database , it should be closed "
   ]
  },
  {
   "cell_type": "code",
   "execution_count": 29,
   "id": "6626445b-f3a2-4d47-a101-52e7eef9446b",
   "metadata": {},
   "outputs": [
    {
     "name": "stdout",
     "output_type": "stream",
     "text": [
      "resources open\n",
      "hey you cannot divide number by zero : division by zero\n"
     ]
    }
   ],
   "source": [
    "c = 3\n",
    "d = 0 \n",
    "\n",
    "try:\n",
    "    print('resources open')\n",
    "    print(c/d)\n",
    "    print('resource closed')\n",
    "\n",
    "except Exception as e:\n",
    "    print('hey you cannot divide number by zero' , ':' , e)\n",
    "\n",
    "#here resource is open but not closed "
   ]
  },
  {
   "cell_type": "code",
   "execution_count": 31,
   "id": "9d7e0649-5b31-4dcc-a091-7e70d3a533d1",
   "metadata": {},
   "outputs": [
    {
     "name": "stdout",
     "output_type": "stream",
     "text": [
      "resources open\n",
      "hey you cannot divide number by zero : division by zero\n",
      "resource closed\n"
     ]
    }
   ],
   "source": [
    "c = 3\n",
    "d = 0 \n",
    "\n",
    "try:\n",
    "    print('resources open')\n",
    "    print(c/d)\n",
    "\n",
    "\n",
    "except Exception as e:\n",
    "    print('hey you cannot divide number by zero' , ':' , e)\n",
    "\n",
    "print('resource closed')\n",
    "\n",
    "#resource is closed cause,it was used after the printing the exception"
   ]
  },
  {
   "cell_type": "code",
   "execution_count": 35,
   "id": "a467e9a6-f3cc-429c-8536-14f948230bda",
   "metadata": {},
   "outputs": [
    {
     "name": "stdout",
     "output_type": "stream",
     "text": [
      "resources open\n",
      "1.0\n"
     ]
    }
   ],
   "source": [
    "c = 3\n",
    "d = 3\n",
    "\n",
    "try:\n",
    "    print('resources open')\n",
    "    print(c/d)\n",
    "\n",
    "\n",
    "except Exception as e:\n",
    "    print('hey you cannot divide number by zero' , ':' , e)\n",
    "    print('resources closed')\n",
    "\n",
    "#as there is  no error in try block , except the exception is not executed and hence resources are not closed\n",
    "# hence we use finally for this kind of problems"
   ]
  },
  {
   "cell_type": "code",
   "execution_count": 39,
   "id": "295fc3ef-0918-4aa4-ba7d-2f4f08b9c336",
   "metadata": {},
   "outputs": [
    {
     "name": "stdout",
     "output_type": "stream",
     "text": [
      "resources open\n",
      "1.0\n",
      "resources closed\n"
     ]
    }
   ],
   "source": [
    "c = 3\n",
    "d = 3\n",
    "\n",
    "try:\n",
    "    print('resources open')\n",
    "    print(c/d)\n",
    "\n",
    "\n",
    "except Exception as e:\n",
    "    print('hey you cannot divide number by zero' , ':' , e)\n",
    "\n",
    "finally:\n",
    "    print('resources closed') \n",
    "\n",
    "#finally block closes the resources even there is any error"
   ]
  },
  {
   "cell_type": "code",
   "execution_count": null,
   "id": "47992806-ab52-4d00-ae07-8089c0de0411",
   "metadata": {},
   "outputs": [],
   "source": []
  }
 ],
 "metadata": {
  "kernelspec": {
   "display_name": "Python 3 (ipykernel)",
   "language": "python",
   "name": "python3"
  },
  "language_info": {
   "codemirror_mode": {
    "name": "ipython",
    "version": 3
   },
   "file_extension": ".py",
   "mimetype": "text/x-python",
   "name": "python",
   "nbconvert_exporter": "python",
   "pygments_lexer": "ipython3",
   "version": "3.12.7"
  }
 },
 "nbformat": 4,
 "nbformat_minor": 5
}
