{
 "cells": [
  {
   "cell_type": "markdown",
   "id": "526de500-fd04-4984-be90-fd5c047bc51b",
   "metadata": {},
   "source": [
    "#sets"
   ]
  },
  {
   "cell_type": "code",
   "execution_count": 1,
   "id": "c94f800d-c273-4c5f-9a14-e30e84dcc73f",
   "metadata": {},
   "outputs": [
    {
     "data": {
      "text/plain": [
       "set()"
      ]
     },
     "execution_count": 1,
     "metadata": {},
     "output_type": "execute_result"
    }
   ],
   "source": [
    "s=set()\n",
    "s"
   ]
  },
  {
   "cell_type": "code",
   "execution_count": 3,
   "id": "4bcaecdc-aa1d-453e-84b7-fb531343a00b",
   "metadata": {},
   "outputs": [
    {
     "data": {
      "text/plain": [
       "{1, 2, 3, 4, 5}"
      ]
     },
     "execution_count": 3,
     "metadata": {},
     "output_type": "execute_result"
    }
   ],
   "source": [
    "s1={1,2,3,4,5}\n",
    "s1"
   ]
  },
  {
   "cell_type": "code",
   "execution_count": 5,
   "id": "5d695d67-20fc-42d9-8aed-5cecf7525e6d",
   "metadata": {},
   "outputs": [
    {
     "data": {
      "text/plain": [
       "5"
      ]
     },
     "execution_count": 5,
     "metadata": {},
     "output_type": "execute_result"
    }
   ],
   "source": [
    "len(s1)"
   ]
  },
  {
   "cell_type": "code",
   "execution_count": 7,
   "id": "3c2061a8-3856-46b5-8d26-7005271ab768",
   "metadata": {},
   "outputs": [
    {
     "data": {
      "text/plain": [
       "{1, 2, 4, 5, 6}"
      ]
     },
     "execution_count": 7,
     "metadata": {},
     "output_type": "execute_result"
    }
   ],
   "source": [
    "myset={1,2,4,2,1,5,4,6}  #duplicates are not allowed in set\n",
    "myset                            "
   ]
  },
  {
   "cell_type": "code",
   "execution_count": 9,
   "id": "edfdc61c-6fb7-4f50-b89f-09810dfe6df3",
   "metadata": {},
   "outputs": [
    {
     "data": {
      "text/plain": [
       "{'3', '4', '5'}"
      ]
     },
     "execution_count": 9,
     "metadata": {},
     "output_type": "execute_result"
    }
   ],
   "source": [
    "myset1={'3','4','5'}  #string datatype \n",
    "myset1"
   ]
  },
  {
   "cell_type": "code",
   "execution_count": 11,
   "id": "da1bcf12-f0c8-4d52-ac65-81fe885cfd5b",
   "metadata": {},
   "outputs": [
    {
     "data": {
      "text/plain": [
       "{3.3, 4.5, 6.6}"
      ]
     },
     "execution_count": 11,
     "metadata": {},
     "output_type": "execute_result"
    }
   ],
   "source": [
    "myset2={3.3,4.5,6.6}  #float datatype\n",
    "myset2"
   ]
  },
  {
   "cell_type": "code",
   "execution_count": 13,
   "id": "1f15f15e-4bcb-43e7-93a4-721c3f40bba0",
   "metadata": {},
   "outputs": [
    {
     "data": {
      "text/plain": [
       "{(1+2j), 10, 20, 3.6, 5.5, 'bye', 'fruits', 'hello'}"
      ]
     },
     "execution_count": 13,
     "metadata": {},
     "output_type": "execute_result"
    }
   ],
   "source": [
    "myset3={10,20,'hello','bye','fruits',3.6,5.5,(1+2j)} #mutltiple data types are allowed in set\n",
    "myset3\n",
    "                                              "
   ]
  },
  {
   "cell_type": "code",
   "execution_count": 15,
   "id": "c1d178f5-51f6-4612-894d-55f59a111d83",
   "metadata": {},
   "outputs": [
    {
     "ename": "TypeError",
     "evalue": "unhashable type: 'list'",
     "output_type": "error",
     "traceback": [
      "\u001b[1;31m---------------------------------------------------------------------------\u001b[0m",
      "\u001b[1;31mTypeError\u001b[0m                                 Traceback (most recent call last)",
      "Cell \u001b[1;32mIn[15], line 1\u001b[0m\n\u001b[1;32m----> 1\u001b[0m myset4\u001b[38;5;241m=\u001b[39m{\u001b[38;5;241m10\u001b[39m,\u001b[38;5;241m20\u001b[39m,\u001b[38;5;124m'\u001b[39m\u001b[38;5;124mhello\u001b[39m\u001b[38;5;124m'\u001b[39m,\u001b[38;5;124m'\u001b[39m\u001b[38;5;124mbye\u001b[39m\u001b[38;5;124m'\u001b[39m,[\u001b[38;5;241m22\u001b[39m,\u001b[38;5;241m33\u001b[39m,\u001b[38;5;241m44\u001b[39m]}\n",
      "\u001b[1;31mTypeError\u001b[0m: unhashable type: 'list'"
     ]
    }
   ],
   "source": [
    "myset4={10,20,'hello','bye',[22,33,44]} #set doesnot allow list\n"
   ]
  },
  {
   "cell_type": "code",
   "execution_count": 19,
   "id": "6364db37-2e16-4544-a88c-795305110ddd",
   "metadata": {},
   "outputs": [
    {
     "data": {
      "text/plain": [
       "{1, 2, 3, 4, 5}"
      ]
     },
     "execution_count": 19,
     "metadata": {},
     "output_type": "execute_result"
    }
   ],
   "source": [
    "s1"
   ]
  },
  {
   "cell_type": "code",
   "execution_count": 25,
   "id": "188b1cdd-41e7-415e-b966-e808591f3ad1",
   "metadata": {},
   "outputs": [
    {
     "data": {
      "text/plain": [
       "{'five', 'four', 'one', 'three', 'two'}"
      ]
     },
     "execution_count": 25,
     "metadata": {},
     "output_type": "execute_result"
    }
   ],
   "source": [
    "s2={'one','two','three','four','five'}\n",
    "s2"
   ]
  },
  {
   "cell_type": "code",
   "execution_count": 30,
   "id": "120e2c33-7fc8-4694-8896-34197f3d42e9",
   "metadata": {},
   "outputs": [
    {
     "name": "stdout",
     "output_type": "stream",
     "text": [
      "four\n",
      "five\n",
      "three\n",
      "one\n",
      "two\n"
     ]
    }
   ],
   "source": [
    "for i in s2:\n",
    "    print(i)"
   ]
  },
  {
   "cell_type": "code",
   "execution_count": 36,
   "id": "e07548db-ce2f-4481-a524-8c54bbfd399e",
   "metadata": {},
   "outputs": [
    {
     "name": "stdout",
     "output_type": "stream",
     "text": [
      "(0, 'four')\n",
      "(1, 'five')\n",
      "(2, 'three')\n",
      "(3, 'one')\n",
      "(4, 'two')\n"
     ]
    }
   ],
   "source": [
    "for i in enumerate(s2): #enumerate shows the index\n",
    "    print(i)"
   ]
  },
  {
   "cell_type": "code",
   "execution_count": null,
   "id": "7a67a81f-d213-4f75-9aea-8ca3810ca6c8",
   "metadata": {},
   "outputs": [],
   "source": [
    "#set membership"
   ]
  },
  {
   "cell_type": "code",
   "execution_count": 34,
   "id": "c11de8d1-6078-4b5f-a95d-a703af96c67a",
   "metadata": {},
   "outputs": [
    {
     "data": {
      "text/plain": [
       "{1, 2, 3, 4, 5}"
      ]
     },
     "execution_count": 34,
     "metadata": {},
     "output_type": "execute_result"
    }
   ],
   "source": [
    "s1"
   ]
  },
  {
   "cell_type": "code",
   "execution_count": 38,
   "id": "b3492d62-3f7f-479f-a55b-dc5815a99e81",
   "metadata": {},
   "outputs": [
    {
     "data": {
      "text/plain": [
       "True"
      ]
     },
     "execution_count": 38,
     "metadata": {},
     "output_type": "execute_result"
    }
   ],
   "source": [
    "1 in s1 #shows that number 1 is present in set s1"
   ]
  },
  {
   "cell_type": "code",
   "execution_count": 40,
   "id": "12aa9eeb-1bc4-431a-8b2b-880820a895be",
   "metadata": {},
   "outputs": [
    {
     "data": {
      "text/plain": [
       "False"
      ]
     },
     "execution_count": 40,
     "metadata": {},
     "output_type": "execute_result"
    }
   ],
   "source": [
    "6 in s1 #number 6 is not present in s1"
   ]
  },
  {
   "cell_type": "code",
   "execution_count": 42,
   "id": "770acfd2-4021-4c06-8cc5-296a4676f3f4",
   "metadata": {},
   "outputs": [
    {
     "data": {
      "text/plain": [
       "True"
      ]
     },
     "execution_count": 42,
     "metadata": {},
     "output_type": "execute_result"
    }
   ],
   "source": [
    "3 in s1"
   ]
  },
  {
   "cell_type": "code",
   "execution_count": 44,
   "id": "53323ff1-b2e2-4dd8-bcd7-81b5bc882f5b",
   "metadata": {},
   "outputs": [
    {
     "data": {
      "text/plain": [
       "False"
      ]
     },
     "execution_count": 44,
     "metadata": {},
     "output_type": "execute_result"
    }
   ],
   "source": [
    "9 in s1"
   ]
  },
  {
   "cell_type": "code",
   "execution_count": 52,
   "id": "001cd6fe-f735-4654-8837-49a30a810f6b",
   "metadata": {},
   "outputs": [
    {
     "name": "stdout",
     "output_type": "stream",
     "text": [
      "3 is present in the set\n"
     ]
    }
   ],
   "source": [
    "if 3 in s1:\n",
    "    print('3 is present in the set')"
   ]
  },
  {
   "cell_type": "code",
   "execution_count": 58,
   "id": "20c0b575-3ec7-4707-b1ef-ccc854f04e65",
   "metadata": {},
   "outputs": [
    {
     "name": "stdout",
     "output_type": "stream",
     "text": [
      "6 is not present in the set\n"
     ]
    }
   ],
   "source": [
    "if 6 in s1:\n",
    "    print('6 is present in the set')\n",
    "else:\n",
    "    print('6 is not present in the set')"
   ]
  },
  {
   "cell_type": "code",
   "execution_count": null,
   "id": "007b01b4-60ff-4881-9c3c-7b08307fc85c",
   "metadata": {},
   "outputs": [],
   "source": [
    "#Add function in set"
   ]
  },
  {
   "cell_type": "code",
   "execution_count": 60,
   "id": "f1c5d289-bcd4-45b5-b933-aaaf014e6ff4",
   "metadata": {},
   "outputs": [
    {
     "data": {
      "text/plain": [
       "{1, 2, 3, 4, 5}"
      ]
     },
     "execution_count": 60,
     "metadata": {},
     "output_type": "execute_result"
    }
   ],
   "source": [
    "s1"
   ]
  },
  {
   "cell_type": "code",
   "execution_count": 66,
   "id": "bb385b10-cdd7-47fb-b02e-db3cda663868",
   "metadata": {},
   "outputs": [
    {
     "data": {
      "text/plain": [
       "{1, 2, 3, 4, 5, 6}"
      ]
     },
     "execution_count": 66,
     "metadata": {},
     "output_type": "execute_result"
    }
   ],
   "source": [
    "s1.add(6) #number 6 is added to the set\n",
    "s1"
   ]
  },
  {
   "cell_type": "code",
   "execution_count": 68,
   "id": "60db19b0-d482-4f5a-a1bf-248c2c4ee6de",
   "metadata": {},
   "outputs": [
    {
     "ename": "TypeError",
     "evalue": "set.add() takes exactly one argument (3 given)",
     "output_type": "error",
     "traceback": [
      "\u001b[1;31m---------------------------------------------------------------------------\u001b[0m",
      "\u001b[1;31mTypeError\u001b[0m                                 Traceback (most recent call last)",
      "Cell \u001b[1;32mIn[68], line 1\u001b[0m\n\u001b[1;32m----> 1\u001b[0m s1\u001b[38;5;241m.\u001b[39madd(\u001b[38;5;241m7\u001b[39m,\u001b[38;5;241m8\u001b[39m,\u001b[38;5;241m9\u001b[39m)\n",
      "\u001b[1;31mTypeError\u001b[0m: set.add() takes exactly one argument (3 given)"
     ]
    }
   ],
   "source": [
    "s1.add(7,8,9) #multiple items cannot be added with add function"
   ]
  },
  {
   "cell_type": "code",
   "execution_count": 84,
   "id": "f87a6254-bc2a-49a5-8780-aecb40461e19",
   "metadata": {},
   "outputs": [
    {
     "data": {
      "text/plain": [
       "{1, 2, 3, 4, 5, 6, 7, 8, 9}"
      ]
     },
     "execution_count": 84,
     "metadata": {},
     "output_type": "execute_result"
    }
   ],
   "source": [
    "s1.update([7,8,9]) #with update function we can add multiple items/arguments\n",
    "s1"
   ]
  },
  {
   "cell_type": "code",
   "execution_count": null,
   "id": "a43df055-a8ad-4a00-9331-5d383f3a4e98",
   "metadata": {},
   "outputs": [],
   "source": [
    "#remove function in set"
   ]
  },
  {
   "cell_type": "code",
   "execution_count": 86,
   "id": "3be61bdb-cf30-433e-a882-52050d278ea7",
   "metadata": {},
   "outputs": [
    {
     "data": {
      "text/plain": [
       "{1, 2, 3, 4, 5, 6, 7, 8}"
      ]
     },
     "execution_count": 86,
     "metadata": {},
     "output_type": "execute_result"
    }
   ],
   "source": [
    "s1.remove(9)\n",
    "s1"
   ]
  },
  {
   "cell_type": "code",
   "execution_count": 89,
   "id": "bc2d7974-d55f-41e2-ad36-126b3ec38f87",
   "metadata": {},
   "outputs": [
    {
     "data": {
      "text/plain": [
       "{1, 2, 3, 4, 5, 7, 8}"
      ]
     },
     "execution_count": 89,
     "metadata": {},
     "output_type": "execute_result"
    }
   ],
   "source": [
    "s1.remove(6)\n",
    "s1"
   ]
  },
  {
   "cell_type": "code",
   "execution_count": 94,
   "id": "9565fc80-2f82-43bc-9bd0-bc9f6a2ca5d6",
   "metadata": {},
   "outputs": [
    {
     "data": {
      "text/plain": [
       "{1, 2, 3, 4, 5, 8}"
      ]
     },
     "execution_count": 94,
     "metadata": {},
     "output_type": "execute_result"
    }
   ],
   "source": [
    "s1.discard(7)\n",
    "s1"
   ]
  },
  {
   "cell_type": "code",
   "execution_count": 98,
   "id": "7538e37f-10c1-40e4-a389-570b956cb9a5",
   "metadata": {},
   "outputs": [
    {
     "data": {
      "text/plain": [
       "set()"
      ]
     },
     "execution_count": 98,
     "metadata": {},
     "output_type": "execute_result"
    }
   ],
   "source": [
    "s1.clear() #clears the items in set\n",
    "s1"
   ]
  },
  {
   "cell_type": "code",
   "execution_count": 110,
   "id": "ef6a1a0c-c258-47ad-851f-6f1bdecc1aa9",
   "metadata": {},
   "outputs": [
    {
     "ename": "NameError",
     "evalue": "name 's1' is not defined",
     "output_type": "error",
     "traceback": [
      "\u001b[1;31m---------------------------------------------------------------------------\u001b[0m",
      "\u001b[1;31mNameError\u001b[0m                                 Traceback (most recent call last)",
      "Cell \u001b[1;32mIn[110], line 2\u001b[0m\n\u001b[0;32m      1\u001b[0m \u001b[38;5;28;01mdel\u001b[39;00m s1\n\u001b[1;32m----> 2\u001b[0m s1\n",
      "\u001b[1;31mNameError\u001b[0m: name 's1' is not defined"
     ]
    }
   ],
   "source": [
    "del s1 #deletes the set from system\n",
    "s1"
   ]
  },
  {
   "cell_type": "code",
   "execution_count": null,
   "id": "11ddaec0-a076-4969-908e-b67aaf87db4d",
   "metadata": {},
   "outputs": [],
   "source": [
    "#copy"
   ]
  },
  {
   "cell_type": "code",
   "execution_count": 116,
   "id": "6981380a-2b63-424b-8e3b-c24144a73be5",
   "metadata": {},
   "outputs": [
    {
     "data": {
      "text/plain": [
       "{1, 2, 3, 4, 5, 6, 7, 8}"
      ]
     },
     "execution_count": 116,
     "metadata": {},
     "output_type": "execute_result"
    }
   ],
   "source": [
    "s1={1,2,3,4,5,6,7,8}\n",
    "s1"
   ]
  },
  {
   "cell_type": "code",
   "execution_count": 118,
   "id": "52e48497-ec44-4af2-84ec-0ccb1afb13a5",
   "metadata": {},
   "outputs": [
    {
     "data": {
      "text/plain": [
       "{1, 2, 3, 4, 5, 6, 7, 8}"
      ]
     },
     "execution_count": 118,
     "metadata": {},
     "output_type": "execute_result"
    }
   ],
   "source": [
    "s2=s1\n",
    "s2"
   ]
  },
  {
   "cell_type": "code",
   "execution_count": 122,
   "id": "e630014c-88c9-4989-b5f3-445cce5aa236",
   "metadata": {},
   "outputs": [
    {
     "data": {
      "text/plain": [
       "2849208329024"
      ]
     },
     "execution_count": 122,
     "metadata": {},
     "output_type": "execute_result"
    }
   ],
   "source": [
    "id(s1)"
   ]
  },
  {
   "cell_type": "code",
   "execution_count": 124,
   "id": "edd0d3b0-0986-4f2a-97e2-6c006d2f2d0c",
   "metadata": {},
   "outputs": [
    {
     "data": {
      "text/plain": [
       "2849208329024"
      ]
     },
     "execution_count": 124,
     "metadata": {},
     "output_type": "execute_result"
    }
   ],
   "source": [
    "id(s2)  #address of s1 and s2 are same as s1=s2"
   ]
  },
  {
   "cell_type": "code",
   "execution_count": 126,
   "id": "c04d4a15-d942-45ff-88d0-b021f95543c4",
   "metadata": {},
   "outputs": [
    {
     "data": {
      "text/plain": [
       "{1, 2, 3, 4, 5, 6, 7, 8, 9}"
      ]
     },
     "execution_count": 126,
     "metadata": {},
     "output_type": "execute_result"
    }
   ],
   "source": [
    "s1.add(9)\n",
    "s1"
   ]
  },
  {
   "cell_type": "code",
   "execution_count": 128,
   "id": "5abee80a-04bd-4e23-9240-7055010f5617",
   "metadata": {},
   "outputs": [
    {
     "data": {
      "text/plain": [
       "{1, 2, 3, 4, 5, 6, 7, 8, 9}"
      ]
     },
     "execution_count": 128,
     "metadata": {},
     "output_type": "execute_result"
    }
   ],
   "source": [
    "s2 # 9 is also added in s2 as it is same as s1"
   ]
  },
  {
   "cell_type": "markdown",
   "id": "6dcfb2ef-7f4d-4104-8b6d-71126e1793e0",
   "metadata": {},
   "source": [
    "#set operation"
   ]
  },
  {
   "cell_type": "code",
   "execution_count": null,
   "id": "88d7407e-27c9-4813-baf7-6151656a4da4",
   "metadata": {},
   "outputs": [],
   "source": [
    "#union"
   ]
  },
  {
   "cell_type": "code",
   "execution_count": 140,
   "id": "7e9f78e3-8ff6-4d58-bfc4-302997b39c85",
   "metadata": {},
   "outputs": [
    {
     "name": "stdout",
     "output_type": "stream",
     "text": [
      "{1, 2, 3, 4, 5}\n",
      "{4, 5, 6, 7, 8}\n",
      "{8, 9, 10}\n"
     ]
    }
   ],
   "source": [
    "a={1,2,3,4,5}\n",
    "b={4,5,6,7,8}\n",
    "c={8,9,10}\n",
    "print(a)\n",
    "print(b)\n",
    "print(c)"
   ]
  },
  {
   "cell_type": "code",
   "execution_count": 142,
   "id": "ce45c146-8d26-4198-abab-f3144ded8b36",
   "metadata": {},
   "outputs": [
    {
     "data": {
      "text/plain": [
       "{1, 2, 3, 4, 5, 6, 7, 8}"
      ]
     },
     "execution_count": 142,
     "metadata": {},
     "output_type": "execute_result"
    }
   ],
   "source": [
    "a | b #adds a and b and no duplicates (add=union)"
   ]
  },
  {
   "cell_type": "code",
   "execution_count": 144,
   "id": "89c885f5-9d45-42d7-ba0c-7a33c814b447",
   "metadata": {},
   "outputs": [
    {
     "data": {
      "text/plain": [
       "{1, 2, 3, 4, 5, 6, 7, 8}"
      ]
     },
     "execution_count": 144,
     "metadata": {},
     "output_type": "execute_result"
    }
   ],
   "source": [
    "a.union(b)"
   ]
  },
  {
   "cell_type": "code",
   "execution_count": 146,
   "id": "f2cffaf7-54a8-47a4-a367-11aa21054174",
   "metadata": {},
   "outputs": [
    {
     "data": {
      "text/plain": [
       "{1, 2, 3, 4, 5, 6, 7, 8, 9, 10}"
      ]
     },
     "execution_count": 146,
     "metadata": {},
     "output_type": "execute_result"
    }
   ],
   "source": [
    "a.union(b,c)"
   ]
  },
  {
   "cell_type": "code",
   "execution_count": 158,
   "id": "40888b14-d255-48d2-897d-bd6448549d71",
   "metadata": {},
   "outputs": [
    {
     "data": {
      "text/plain": [
       "{1, 2, 3, 4, 5, 6, 7, 8, 9, 10}"
      ]
     },
     "execution_count": 158,
     "metadata": {},
     "output_type": "execute_result"
    }
   ],
   "source": [
    "a.update(b,c) #updates a\n",
    "a"
   ]
  },
  {
   "cell_type": "code",
   "execution_count": null,
   "id": "ffc820d0-1ad4-464b-ab96-ed6efd6c1fdc",
   "metadata": {},
   "outputs": [],
   "source": [
    "#intersection"
   ]
  },
  {
   "cell_type": "code",
   "execution_count": 160,
   "id": "6232d2fa-b700-4039-855f-fa54333e2a93",
   "metadata": {},
   "outputs": [
    {
     "name": "stdout",
     "output_type": "stream",
     "text": [
      "{1, 2, 3, 4, 5}\n",
      "{4, 5, 6, 7, 8}\n"
     ]
    }
   ],
   "source": [
    "a={1,2,3,4,5}\n",
    "b={4,5,6,7,8}\n",
    "print(a)\n",
    "print(b)\n"
   ]
  },
  {
   "cell_type": "code",
   "execution_count": 162,
   "id": "8b527594-cae8-4836-8d53-7732b6272cf6",
   "metadata": {},
   "outputs": [
    {
     "data": {
      "text/plain": [
       "{4, 5}"
      ]
     },
     "execution_count": 162,
     "metadata": {},
     "output_type": "execute_result"
    }
   ],
   "source": [
    "a&b # intersection of a and b is common items in both sets"
   ]
  },
  {
   "cell_type": "code",
   "execution_count": 164,
   "id": "8d537b57-cc59-4e53-beb8-944cbbab2c77",
   "metadata": {},
   "outputs": [
    {
     "data": {
      "text/plain": [
       "{4, 5}"
      ]
     },
     "execution_count": 164,
     "metadata": {},
     "output_type": "execute_result"
    }
   ],
   "source": [
    "a.intersection(b)"
   ]
  },
  {
   "cell_type": "code",
   "execution_count": 166,
   "id": "972f6111-c55e-4fda-b052-a1b0b5e53f95",
   "metadata": {},
   "outputs": [
    {
     "data": {
      "text/plain": [
       "{4, 5}"
      ]
     },
     "execution_count": 166,
     "metadata": {},
     "output_type": "execute_result"
    }
   ],
   "source": [
    "a.intersection_update(b)\n",
    "a"
   ]
  },
  {
   "cell_type": "code",
   "execution_count": null,
   "id": "1212ff10-a8e2-4466-8fd2-a44a7b2ce152",
   "metadata": {},
   "outputs": [],
   "source": [
    "#difference"
   ]
  },
  {
   "cell_type": "code",
   "execution_count": 168,
   "id": "a91631b0-8a6e-48d5-bd09-dc32d54376ec",
   "metadata": {},
   "outputs": [
    {
     "name": "stdout",
     "output_type": "stream",
     "text": [
      "{1, 2, 3, 4, 5}\n",
      "{4, 5, 6, 7, 8}\n"
     ]
    }
   ],
   "source": [
    "a={1,2,3,4,5}\n",
    "b={4,5,6,7,8}\n",
    "print(a)\n",
    "print(b)"
   ]
  },
  {
   "cell_type": "code",
   "execution_count": 170,
   "id": "e462c9e7-f1c7-424d-8bfa-a03794c6f693",
   "metadata": {},
   "outputs": [
    {
     "data": {
      "text/plain": [
       "{1, 2, 3}"
      ]
     },
     "execution_count": 170,
     "metadata": {},
     "output_type": "execute_result"
    }
   ],
   "source": [
    "a.difference(b) # difference of items in sets"
   ]
  },
  {
   "cell_type": "code",
   "execution_count": 172,
   "id": "2ef505a6-31a1-4282-a073-4dd866c123f2",
   "metadata": {},
   "outputs": [
    {
     "data": {
      "text/plain": [
       "{1, 2, 3}"
      ]
     },
     "execution_count": 172,
     "metadata": {},
     "output_type": "execute_result"
    }
   ],
   "source": [
    "a-b  #shows items that are only in a and not in b"
   ]
  },
  {
   "cell_type": "code",
   "execution_count": 174,
   "id": "c4f2a232-ff6d-41bd-b658-84cbbb5067a1",
   "metadata": {},
   "outputs": [
    {
     "data": {
      "text/plain": [
       "{6, 7, 8}"
      ]
     },
     "execution_count": 174,
     "metadata": {},
     "output_type": "execute_result"
    }
   ],
   "source": [
    "b-a  #shows items that are only in b and not in a "
   ]
  },
  {
   "cell_type": "code",
   "execution_count": 178,
   "id": "3e20ed5f-55de-41fa-a1c6-87253fff1d68",
   "metadata": {},
   "outputs": [
    {
     "data": {
      "text/plain": [
       "{1, 2, 3}"
      ]
     },
     "execution_count": 178,
     "metadata": {},
     "output_type": "execute_result"
    }
   ],
   "source": [
    "a.difference_update(b)\n",
    "a"
   ]
  },
  {
   "cell_type": "code",
   "execution_count": null,
   "id": "919f1afa-6c8d-4e15-bfba-3f3797b8f233",
   "metadata": {},
   "outputs": [],
   "source": [
    "#symmetric difference"
   ]
  },
  {
   "cell_type": "code",
   "execution_count": 182,
   "id": "79472c48-09a7-44c7-a544-173c2fe3963d",
   "metadata": {},
   "outputs": [
    {
     "name": "stdout",
     "output_type": "stream",
     "text": [
      "{1, 2, 3, 4, 5}\n",
      "{4, 5, 6, 7, 8}\n"
     ]
    }
   ],
   "source": [
    "a={1,2,3,4,5}\n",
    "b={4,5,6,7,8}\n",
    "print(a)\n",
    "print(b)"
   ]
  },
  {
   "cell_type": "code",
   "execution_count": 186,
   "id": "a1671597-bc13-4abf-b853-3dd8b2f907f6",
   "metadata": {},
   "outputs": [
    {
     "data": {
      "text/plain": [
       "{1, 2, 3, 6, 7, 8}"
      ]
     },
     "execution_count": 186,
     "metadata": {},
     "output_type": "execute_result"
    }
   ],
   "source": [
    "a ^ b  #set of elements in set a and b but not in both "
   ]
  },
  {
   "cell_type": "code",
   "execution_count": 188,
   "id": "7f614240-f5ac-4c5b-9060-6dc1cfeb2999",
   "metadata": {},
   "outputs": [
    {
     "data": {
      "text/plain": [
       "{1, 2, 3, 6, 7, 8}"
      ]
     },
     "execution_count": 188,
     "metadata": {},
     "output_type": "execute_result"
    }
   ],
   "source": [
    "a.symmetric_difference(b) #symmetric diff in both sets"
   ]
  },
  {
   "cell_type": "code",
   "execution_count": 194,
   "id": "05793049-a9b7-4453-aa32-d5c6dac0d264",
   "metadata": {},
   "outputs": [
    {
     "data": {
      "text/plain": [
       "{1, 2, 3, 6, 7, 8}"
      ]
     },
     "execution_count": 194,
     "metadata": {},
     "output_type": "execute_result"
    }
   ],
   "source": [
    "a.symmetric_difference_update(b)\n",
    "a"
   ]
  },
  {
   "cell_type": "code",
   "execution_count": null,
   "id": "0f8868ca-d4cd-4d76-accd-33bbf692662f",
   "metadata": {},
   "outputs": [],
   "source": [
    "#subset, superset, disjoint"
   ]
  },
  {
   "cell_type": "code",
   "execution_count": 202,
   "id": "3e083355-3f69-43d8-8d51-b13d72a57f73",
   "metadata": {},
   "outputs": [
    {
     "name": "stdout",
     "output_type": "stream",
     "text": [
      "{1, 2, 3, 4, 5, 6, 7, 8, 9}\n",
      "{3, 4, 5, 6, 7, 8, 9}\n",
      "{40, 10, 20, 30}\n"
     ]
    }
   ],
   "source": [
    "a1={1,2,3,4,5,6,7,8,9}\n",
    "b1={3,4,5,6,7,8,9}\n",
    "c1={10,20,30,40}\n",
    "print(a1)\n",
    "print(b1)\n",
    "print(c1)"
   ]
  },
  {
   "cell_type": "code",
   "execution_count": 200,
   "id": "d31baaca-51ee-48a2-aff4-5f93c6ddf1a6",
   "metadata": {},
   "outputs": [
    {
     "data": {
      "text/plain": [
       "True"
      ]
     },
     "execution_count": 200,
     "metadata": {},
     "output_type": "execute_result"
    }
   ],
   "source": [
    "b1.issubset(a1) #b1 is subset of a1 as it has all the elements from a1"
   ]
  },
  {
   "cell_type": "code",
   "execution_count": 204,
   "id": "1cdf251a-3cfe-4516-945f-0421d67f6aea",
   "metadata": {},
   "outputs": [
    {
     "data": {
      "text/plain": [
       "True"
      ]
     },
     "execution_count": 204,
     "metadata": {},
     "output_type": "execute_result"
    }
   ],
   "source": [
    "a1.issuperset(b1) #a1 is superset of b1 as a1 has all the elements of b1"
   ]
  },
  {
   "cell_type": "code",
   "execution_count": 206,
   "id": "de96f8e0-7600-4109-9489-5765c791370b",
   "metadata": {},
   "outputs": [
    {
     "ename": "TypeError",
     "evalue": "set.isdisjoint() takes exactly one argument (2 given)",
     "output_type": "error",
     "traceback": [
      "\u001b[1;31m---------------------------------------------------------------------------\u001b[0m",
      "\u001b[1;31mTypeError\u001b[0m                                 Traceback (most recent call last)",
      "Cell \u001b[1;32mIn[206], line 1\u001b[0m\n\u001b[1;32m----> 1\u001b[0m c1\u001b[38;5;241m.\u001b[39misdisjoint(b1,a1)\n",
      "\u001b[1;31mTypeError\u001b[0m: set.isdisjoint() takes exactly one argument (2 given)"
     ]
    }
   ],
   "source": [
    "c1.isdisjoint(b1,a1)"
   ]
  },
  {
   "cell_type": "code",
   "execution_count": 208,
   "id": "02b044f6-c1d7-4a33-9262-ecf98963b959",
   "metadata": {},
   "outputs": [
    {
     "data": {
      "text/plain": [
       "True"
      ]
     },
     "execution_count": 208,
     "metadata": {},
     "output_type": "execute_result"
    }
   ],
   "source": [
    "c1.isdisjoint(b1) #2 sets are said to be disjoint if they donot have any element in common between them"
   ]
  },
  {
   "cell_type": "code",
   "execution_count": 210,
   "id": "28b36118-78ac-44fe-b9c5-147171a2f29f",
   "metadata": {},
   "outputs": [
    {
     "data": {
      "text/plain": [
       "False"
      ]
     },
     "execution_count": 210,
     "metadata": {},
     "output_type": "execute_result"
    }
   ],
   "source": [
    "b1.issuperset(a1)"
   ]
  },
  {
   "cell_type": "code",
   "execution_count": null,
   "id": "aad82faf-c047-4676-bbef-704bafb24f28",
   "metadata": {},
   "outputs": [],
   "source": [
    "#other built in functions"
   ]
  },
  {
   "cell_type": "code",
   "execution_count": 212,
   "id": "62918255-dcec-41df-b444-f938e26db50b",
   "metadata": {},
   "outputs": [
    {
     "data": {
      "text/plain": [
       "{1, 2, 3, 4, 5, 6, 7, 8, 9}"
      ]
     },
     "execution_count": 212,
     "metadata": {},
     "output_type": "execute_result"
    }
   ],
   "source": [
    "a={1,2,3,4,5,6,7,8,9}\n",
    "a"
   ]
  },
  {
   "cell_type": "code",
   "execution_count": 214,
   "id": "2063b2fb-6a5d-48c7-ad17-c9f3ac42cf7f",
   "metadata": {},
   "outputs": [
    {
     "data": {
      "text/plain": [
       "45"
      ]
     },
     "execution_count": 214,
     "metadata": {},
     "output_type": "execute_result"
    }
   ],
   "source": [
    "sum(a)"
   ]
  },
  {
   "cell_type": "code",
   "execution_count": 221,
   "id": "6edb2490-e25e-4e32-9878-76f7b1765b6e",
   "metadata": {},
   "outputs": [
    {
     "data": {
      "text/plain": [
       "9"
      ]
     },
     "execution_count": 221,
     "metadata": {},
     "output_type": "execute_result"
    }
   ],
   "source": [
    "max(a)"
   ]
  },
  {
   "cell_type": "code",
   "execution_count": 223,
   "id": "26a13b39-5612-40cf-b568-0717b8e2ab8f",
   "metadata": {},
   "outputs": [
    {
     "data": {
      "text/plain": [
       "1"
      ]
     },
     "execution_count": 223,
     "metadata": {},
     "output_type": "execute_result"
    }
   ],
   "source": [
    "min(a)"
   ]
  },
  {
   "cell_type": "code",
   "execution_count": 225,
   "id": "e321bc75-1cd4-4eae-9bfc-96a9d01ca5c1",
   "metadata": {},
   "outputs": [
    {
     "data": {
      "text/plain": [
       "9"
      ]
     },
     "execution_count": 225,
     "metadata": {},
     "output_type": "execute_result"
    }
   ],
   "source": [
    "len(a)"
   ]
  },
  {
   "cell_type": "code",
   "execution_count": 227,
   "id": "a201eb57-2917-4123-ab66-8f7ef20cc982",
   "metadata": {},
   "outputs": [
    {
     "data": {
      "text/plain": [
       "2849240292864"
      ]
     },
     "execution_count": 227,
     "metadata": {},
     "output_type": "execute_result"
    }
   ],
   "source": [
    "id(a)"
   ]
  },
  {
   "cell_type": "code",
   "execution_count": 219,
   "id": "7ab577fd-6c58-466b-ba61-9a8be52809ee",
   "metadata": {},
   "outputs": [
    {
     "data": {
      "text/plain": [
       "[(0, 1), (1, 2), (2, 3), (3, 4), (4, 5), (5, 6), (6, 7), (7, 8), (8, 9)]"
      ]
     },
     "execution_count": 219,
     "metadata": {},
     "output_type": "execute_result"
    }
   ],
   "source": [
    "list(enumerate(a)) #shows index"
   ]
  },
  {
   "cell_type": "code",
   "execution_count": 229,
   "id": "175d65f0-27bc-4c5a-ab8f-1aebb3ffc9ad",
   "metadata": {},
   "outputs": [
    {
     "data": {
      "text/plain": [
       "[9, 8, 7, 6, 5, 4, 3, 2, 1]"
      ]
     },
     "execution_count": 229,
     "metadata": {},
     "output_type": "execute_result"
    }
   ],
   "source": [
    "b=sorted(a,reverse=True)\n",
    "b"
   ]
  },
  {
   "cell_type": "code",
   "execution_count": 231,
   "id": "7122a434-7928-4d53-b017-f002ee85ed5f",
   "metadata": {},
   "outputs": [
    {
     "data": {
      "text/plain": [
       "[1, 2, 3, 4, 5, 6, 7, 8, 9]"
      ]
     },
     "execution_count": 231,
     "metadata": {},
     "output_type": "execute_result"
    }
   ],
   "source": [
    "sorted(b)"
   ]
  },
  {
   "cell_type": "code",
   "execution_count": null,
   "id": "1f42fef2-cc21-4c9c-9c5f-c5651226d668",
   "metadata": {},
   "outputs": [],
   "source": []
  }
 ],
 "metadata": {
  "kernelspec": {
   "display_name": "Python 3 (ipykernel)",
   "language": "python",
   "name": "python3"
  },
  "language_info": {
   "codemirror_mode": {
    "name": "ipython",
    "version": 3
   },
   "file_extension": ".py",
   "mimetype": "text/x-python",
   "name": "python",
   "nbconvert_exporter": "python",
   "pygments_lexer": "ipython3",
   "version": "3.12.7"
  }
 },
 "nbformat": 4,
 "nbformat_minor": 5
}
