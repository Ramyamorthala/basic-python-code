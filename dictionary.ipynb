{
 "cells": [
  {
   "cell_type": "markdown",
   "id": "b67d78ff-5852-4321-abb6-4f3b6118f1b7",
   "metadata": {},
   "source": [
    "#Dictionary"
   ]
  },
  {
   "cell_type": "code",
   "execution_count": null,
   "id": "4f32d40e-cc5e-43e4-b429-a7a3242cbd21",
   "metadata": {},
   "outputs": [],
   "source": [
    "#dict is collection of keys and values separated by ':' (ex : {'A':'one','B' :'two','C','three'} A=key one = value"
   ]
  },
  {
   "cell_type": "code",
   "execution_count": 1,
   "id": "eacf21ad-45c0-4121-ad78-5cd0b55233ee",
   "metadata": {},
   "outputs": [
    {
     "data": {
      "text/plain": [
       "{}"
      ]
     },
     "execution_count": 1,
     "metadata": {},
     "output_type": "execute_result"
    }
   ],
   "source": [
    "mydict=dict()\n",
    "mydict"
   ]
  },
  {
   "cell_type": "code",
   "execution_count": 7,
   "id": "207c18fe-54ab-458d-8340-42f8a85fa26e",
   "metadata": {},
   "outputs": [
    {
     "data": {
      "text/plain": [
       "{1: 'one', 2: 'two', 3: 'three'}"
      ]
     },
     "execution_count": 7,
     "metadata": {},
     "output_type": "execute_result"
    }
   ],
   "source": [
    "dict1={1:'one',2:'two',3:'three'} # dict with integer key\n",
    "dict1"
   ]
  },
  {
   "cell_type": "code",
   "execution_count": 11,
   "id": "7949026b-fb9d-4cb3-80de-707aae2dd9af",
   "metadata": {},
   "outputs": [
    {
     "data": {
      "text/plain": [
       "{'A': 'one', 'B': 'two', 'C': 'three'}"
      ]
     },
     "execution_count": 11,
     "metadata": {},
     "output_type": "execute_result"
    }
   ],
   "source": [
    "dict1={'A':'one','B':'two','C':'three'}\n",
    "dict1                                  # dict with charecter key"
   ]
  },
  {
   "cell_type": "code",
   "execution_count": 13,
   "id": "edeab1e1-b36b-4579-9f85-c8d6b31329e9",
   "metadata": {},
   "outputs": [
    {
     "data": {
      "text/plain": [
       "{'A': 'one', '2': 'two', '3': 'three'}"
      ]
     },
     "execution_count": 13,
     "metadata": {},
     "output_type": "execute_result"
    }
   ],
   "source": [
    "dict1={'A':'one','2':'two','3':'three'}  # dict with mixed keys\n",
    "dict1"
   ]
  },
  {
   "cell_type": "code",
   "execution_count": 15,
   "id": "4c28ee70-36ec-4809-845c-0b0d6cbf6db4",
   "metadata": {},
   "outputs": [
    {
     "data": {
      "text/plain": [
       "dict_keys(['A', '2', '3'])"
      ]
     },
     "execution_count": 15,
     "metadata": {},
     "output_type": "execute_result"
    }
   ],
   "source": [
    "dict1.keys() #only returns keys"
   ]
  },
  {
   "cell_type": "code",
   "execution_count": 17,
   "id": "4f24cf23-7c9a-43f4-95ae-147816f0b90e",
   "metadata": {},
   "outputs": [
    {
     "data": {
      "text/plain": [
       "dict_values(['one', 'two', 'three'])"
      ]
     },
     "execution_count": 17,
     "metadata": {},
     "output_type": "execute_result"
    }
   ],
   "source": [
    "dict1.values() #only returns values"
   ]
  },
  {
   "cell_type": "code",
   "execution_count": 19,
   "id": "6edf95b8-8359-4646-afa7-e02eb2b49755",
   "metadata": {},
   "outputs": [
    {
     "data": {
      "text/plain": [
       "dict_items([('A', 'one'), ('2', 'two'), ('3', 'three')])"
      ]
     },
     "execution_count": 19,
     "metadata": {},
     "output_type": "execute_result"
    }
   ],
   "source": [
    "dict1.items() #returns the each key-value pair"
   ]
  },
  {
   "cell_type": "code",
   "execution_count": 21,
   "id": "ee333aaf-17c7-458e-8dab-d8028e752ef0",
   "metadata": {},
   "outputs": [
    {
     "data": {
      "text/plain": [
       "{1: 'one', 2: 'two', 'A': ('Apple', 'ball', 'cat')}"
      ]
     },
     "execution_count": 21,
     "metadata": {},
     "output_type": "execute_result"
    }
   ],
   "source": [
    "dict1={1:'one',2:'two','A':('Apple','ball','cat')}\n",
    "dict1"
   ]
  },
  {
   "cell_type": "code",
   "execution_count": 23,
   "id": "460ecb47-47a3-4630-a72f-efa15cd451a8",
   "metadata": {},
   "outputs": [
    {
     "data": {
      "text/plain": [
       "dict_keys([1, 2, 'A'])"
      ]
     },
     "execution_count": 23,
     "metadata": {},
     "output_type": "execute_result"
    }
   ],
   "source": [
    "dict1.keys()"
   ]
  },
  {
   "cell_type": "code",
   "execution_count": 25,
   "id": "61e7d549-3984-4e4b-bbf4-919a851cddb7",
   "metadata": {},
   "outputs": [
    {
     "data": {
      "text/plain": [
       "{1: 'one',\n",
       " 2: 'two',\n",
       " 'A': ('Apple', 'ball', 'cat'),\n",
       " 'b': ('dog', 'Eagle', 'fun')}"
      ]
     },
     "execution_count": 25,
     "metadata": {},
     "output_type": "execute_result"
    }
   ],
   "source": [
    "dict1={1:'one',2:'two','A':('Apple','ball','cat'),'b':('dog','Eagle','fun')}\n",
    "dict1"
   ]
  },
  {
   "cell_type": "code",
   "execution_count": 29,
   "id": "297b4019-d105-4b92-88d4-2edc2ea2ff75",
   "metadata": {},
   "outputs": [
    {
     "data": {
      "text/plain": [
       "dict_keys([1, 2, 'A', 'b'])"
      ]
     },
     "execution_count": 29,
     "metadata": {},
     "output_type": "execute_result"
    }
   ],
   "source": [
    "dict1.keys()"
   ]
  },
  {
   "cell_type": "code",
   "execution_count": 31,
   "id": "a95b2563-dcbf-422b-8267-4aab867653f7",
   "metadata": {},
   "outputs": [
    {
     "data": {
      "text/plain": [
       "dict_values(['one', 'two', ('Apple', 'ball', 'cat'), ('dog', 'Eagle', 'fun')])"
      ]
     },
     "execution_count": 31,
     "metadata": {},
     "output_type": "execute_result"
    }
   ],
   "source": [
    "dict1.values()"
   ]
  },
  {
   "cell_type": "code",
   "execution_count": 35,
   "id": "d5c4bb9f-6c3f-46b9-8deb-86173f665829",
   "metadata": {},
   "outputs": [
    {
     "data": {
      "text/plain": [
       "{'c': None, 'a': None, 'b': None, 'd': None}"
      ]
     },
     "execution_count": 35,
     "metadata": {},
     "output_type": "execute_result"
    }
   ],
   "source": [
    "keys={'a','b','c','d'}\n",
    "dict2=dict.fromkeys(keys)\n",
    "dict2"
   ]
  },
  {
   "cell_type": "code",
   "execution_count": 37,
   "id": "ccd42272-e6b1-4f37-8605-93171a7c0b78",
   "metadata": {},
   "outputs": [
    {
     "data": {
      "text/plain": [
       "{'c': 10, 'a': 10, 'b': 10, 'd': 10}"
      ]
     },
     "execution_count": 37,
     "metadata": {},
     "output_type": "execute_result"
    }
   ],
   "source": [
    "keys={'a','b','c','d'}\n",
    "value=10\n",
    "dict2=dict.fromkeys(keys,value)\n",
    "dict2"
   ]
  },
  {
   "cell_type": "code",
   "execution_count": 55,
   "id": "2cb3c1af-724b-4f3d-802c-c7d4835fa9fe",
   "metadata": {},
   "outputs": [
    {
     "data": {
      "text/plain": [
       "{'c': [10, 20, 30], 'a': [10, 20, 30], 'b': [10, 20, 30], 'd': [10, 20, 30]}"
      ]
     },
     "execution_count": 55,
     "metadata": {},
     "output_type": "execute_result"
    }
   ],
   "source": [
    "keys={'a','b','c','d'}\n",
    "value=[10,20,30]\n",
    "dict2=dict.fromkeys(keys,value)\n",
    "dict2"
   ]
  },
  {
   "cell_type": "code",
   "execution_count": 57,
   "id": "ce06d154-858b-4f44-b47c-f11c8b47d07d",
   "metadata": {},
   "outputs": [
    {
     "data": {
      "text/plain": [
       "{'c': [10, 20, 30, 40],\n",
       " 'a': [10, 20, 30, 40],\n",
       " 'b': [10, 20, 30, 40],\n",
       " 'd': [10, 20, 30, 40]}"
      ]
     },
     "execution_count": 57,
     "metadata": {},
     "output_type": "execute_result"
    }
   ],
   "source": [
    "value.append(40)\n",
    "dict2"
   ]
  },
  {
   "cell_type": "code",
   "execution_count": null,
   "id": "d2fcc195-c0b8-4c1b-9ab6-0c8eabea770c",
   "metadata": {},
   "outputs": [],
   "source": [
    "#Accessing items"
   ]
  },
  {
   "cell_type": "code",
   "execution_count": 59,
   "id": "ad90efa9-e081-4a93-80e4-854031358477",
   "metadata": {},
   "outputs": [
    {
     "data": {
      "text/plain": [
       "{1: 'one', 2: 'two', 3: 'three'}"
      ]
     },
     "execution_count": 59,
     "metadata": {},
     "output_type": "execute_result"
    }
   ],
   "source": [
    "dict1={1:'one',2:'two',3:'three'}\n",
    "dict1"
   ]
  },
  {
   "cell_type": "code",
   "execution_count": 63,
   "id": "8231f87e-22c5-4315-b6cf-5bd8177e49b1",
   "metadata": {},
   "outputs": [
    {
     "data": {
      "text/plain": [
       "'one'"
      ]
     },
     "execution_count": 63,
     "metadata": {},
     "output_type": "execute_result"
    }
   ],
   "source": [
    "dict1[1]"
   ]
  },
  {
   "cell_type": "code",
   "execution_count": 65,
   "id": "93b56df9-b17f-413a-a342-9b8c78fc2a34",
   "metadata": {},
   "outputs": [
    {
     "data": {
      "text/plain": [
       "'three'"
      ]
     },
     "execution_count": 65,
     "metadata": {},
     "output_type": "execute_result"
    }
   ],
   "source": [
    "dict1.get(3)"
   ]
  },
  {
   "cell_type": "code",
   "execution_count": 67,
   "id": "59dc12d1-d70f-44d6-827d-82c71fd3efe7",
   "metadata": {},
   "outputs": [
    {
     "data": {
      "text/plain": [
       "{'Name': 'leo', 'breed': 'shit', 'DOB': 2023, 'address': 'bachupally'}"
      ]
     },
     "execution_count": 67,
     "metadata": {},
     "output_type": "execute_result"
    }
   ],
   "source": [
    "dict2={'Name':'leo','breed': 'shit','DOB':2023,'address':'bachupally'}\n",
    "dict2"
   ]
  },
  {
   "cell_type": "code",
   "execution_count": 71,
   "id": "7ef6bcc8-0853-49b2-81a1-2f765df3fe2d",
   "metadata": {},
   "outputs": [
    {
     "data": {
      "text/plain": [
       "'leo'"
      ]
     },
     "execution_count": 71,
     "metadata": {},
     "output_type": "execute_result"
    }
   ],
   "source": [
    "dict2['Name'] #access item using key"
   ]
  },
  {
   "cell_type": "code",
   "execution_count": 73,
   "id": "195047fe-d613-4209-86f5-926e5887f97a",
   "metadata": {},
   "outputs": [
    {
     "data": {
      "text/plain": [
       "'bachupally'"
      ]
     },
     "execution_count": 73,
     "metadata": {},
     "output_type": "execute_result"
    }
   ],
   "source": [
    "dict2['address'] "
   ]
  },
  {
   "cell_type": "code",
   "execution_count": 75,
   "id": "140c6449-e350-4fab-92b4-f6ff56aa2fa0",
   "metadata": {},
   "outputs": [
    {
     "data": {
      "text/plain": [
       "'shit'"
      ]
     },
     "execution_count": 75,
     "metadata": {},
     "output_type": "execute_result"
    }
   ],
   "source": [
    "dict2.get('breed') #access item using get() method"
   ]
  },
  {
   "cell_type": "code",
   "execution_count": 79,
   "id": "b3efea65-eb99-456a-a805-75d2b73e7e39",
   "metadata": {},
   "outputs": [
    {
     "ename": "KeyError",
     "evalue": "'shit'",
     "output_type": "error",
     "traceback": [
      "\u001b[1;31m---------------------------------------------------------------------------\u001b[0m",
      "\u001b[1;31mKeyError\u001b[0m                                  Traceback (most recent call last)",
      "Cell \u001b[1;32mIn[79], line 1\u001b[0m\n\u001b[1;32m----> 1\u001b[0m dict2[\u001b[38;5;124m'\u001b[39m\u001b[38;5;124mshit\u001b[39m\u001b[38;5;124m'\u001b[39m]\n",
      "\u001b[1;31mKeyError\u001b[0m: 'shit'"
     ]
    }
   ],
   "source": [
    "dict2['shit']"
   ]
  },
  {
   "cell_type": "code",
   "execution_count": null,
   "id": "eba00d6d-a3b0-4e88-bb38-b77aef2cc3ef",
   "metadata": {},
   "outputs": [],
   "source": [
    "#add item,remove and delete item"
   ]
  },
  {
   "cell_type": "code",
   "execution_count": 81,
   "id": "b79e67f7-332d-40da-bf13-370d748bd294",
   "metadata": {},
   "outputs": [
    {
     "data": {
      "text/plain": [
       "{'Name': 'leo', 'breed': 'shit', 'DOB': 2022, 'address': 'bachupally'}"
      ]
     },
     "execution_count": 81,
     "metadata": {},
     "output_type": "execute_result"
    }
   ],
   "source": [
    "dict2={'Name':'leo','breed': 'shit','DOB':2022,'address':'bachupally'}\n",
    "dict2"
   ]
  },
  {
   "cell_type": "code",
   "execution_count": 83,
   "id": "5cd401b9-4cec-468c-b7fb-d9a8d60c555b",
   "metadata": {},
   "outputs": [
    {
     "data": {
      "text/plain": [
       "{'Name': 'leo', 'breed': 'shit', 'DOB': 2023, 'address': 'bachupally'}"
      ]
     },
     "execution_count": 83,
     "metadata": {},
     "output_type": "execute_result"
    }
   ],
   "source": [
    "dict2['DOB']=2023 # changing dict items\n",
    "dict2"
   ]
  },
  {
   "cell_type": "code",
   "execution_count": 85,
   "id": "210c6fec-b739-4541-9e01-6918bb3a5bae",
   "metadata": {},
   "outputs": [
    {
     "data": {
      "text/plain": [
       "{'Name': 'leo',\n",
       " 'breed': 'shit',\n",
       " 'DOB': 2023,\n",
       " 'address': 'bachupally',\n",
       " 'job': 'sleeping'}"
      ]
     },
     "execution_count": 85,
     "metadata": {},
     "output_type": "execute_result"
    }
   ],
   "source": [
    "dict2['job']='sleeping' #adding items to dict\n",
    "dict2"
   ]
  },
  {
   "cell_type": "code",
   "execution_count": 87,
   "id": "1872c21e-ab50-4ea4-8381-16e97664e01a",
   "metadata": {},
   "outputs": [
    {
     "data": {
      "text/plain": [
       "{'Name': 'leo', 'breed': 'shit', 'DOB': 2023, 'address': 'bachupally'}"
      ]
     },
     "execution_count": 87,
     "metadata": {},
     "output_type": "execute_result"
    }
   ],
   "source": [
    "dict2.pop('job') #pop removes the dict items(removes the mentioned item)\n",
    "dict2"
   ]
  },
  {
   "cell_type": "code",
   "execution_count": 91,
   "id": "1ed6fdd8-d8f1-4026-92ee-5e54a17eda9b",
   "metadata": {},
   "outputs": [
    {
     "data": {
      "text/plain": [
       "('address', 'bachupally')"
      ]
     },
     "execution_count": 91,
     "metadata": {},
     "output_type": "execute_result"
    }
   ],
   "source": [
    "dict2.popitem() #removes random item if not mentioned"
   ]
  },
  {
   "cell_type": "code",
   "execution_count": 93,
   "id": "107eec8b-5b23-4a20-a9ad-70fea2febe2e",
   "metadata": {},
   "outputs": [
    {
     "data": {
      "text/plain": [
       "{'Name': 'leo', 'breed': 'shit', 'DOB': 2023}"
      ]
     },
     "execution_count": 93,
     "metadata": {},
     "output_type": "execute_result"
    }
   ],
   "source": [
    "dict2"
   ]
  },
  {
   "cell_type": "code",
   "execution_count": 95,
   "id": "43c3853d-9578-4139-ae98-6536fe99e04c",
   "metadata": {},
   "outputs": [
    {
     "data": {
      "text/plain": [
       "1993464606208"
      ]
     },
     "execution_count": 95,
     "metadata": {},
     "output_type": "execute_result"
    }
   ],
   "source": [
    "id(dict2)"
   ]
  },
  {
   "cell_type": "code",
   "execution_count": 101,
   "id": "c0b76336-09f2-4f15-9ca2-d94bcc8dd523",
   "metadata": {},
   "outputs": [
    {
     "data": {
      "text/plain": [
       "{}"
      ]
     },
     "execution_count": 101,
     "metadata": {},
     "output_type": "execute_result"
    }
   ],
   "source": [
    "dict2.clear() #clears the all elements in dic\n",
    "dict2"
   ]
  },
  {
   "cell_type": "code",
   "execution_count": 107,
   "id": "fdb504a2-9836-4d57-9136-c4ba8b9e9124",
   "metadata": {},
   "outputs": [
    {
     "ename": "NameError",
     "evalue": "name 'dict2' is not defined",
     "output_type": "error",
     "traceback": [
      "\u001b[1;31m---------------------------------------------------------------------------\u001b[0m",
      "\u001b[1;31mNameError\u001b[0m                                 Traceback (most recent call last)",
      "Cell \u001b[1;32mIn[107], line 1\u001b[0m\n\u001b[1;32m----> 1\u001b[0m \u001b[38;5;28;01mdel\u001b[39;00m dict2\n",
      "\u001b[1;31mNameError\u001b[0m: name 'dict2' is not defined"
     ]
    }
   ],
   "source": [
    "del dict2 #deleted the entire dict"
   ]
  },
  {
   "cell_type": "code",
   "execution_count": 110,
   "id": "75e63462-a39a-41ae-88f0-a5bb6074e3fa",
   "metadata": {},
   "outputs": [
    {
     "ename": "NameError",
     "evalue": "name 'dict2' is not defined",
     "output_type": "error",
     "traceback": [
      "\u001b[1;31m---------------------------------------------------------------------------\u001b[0m",
      "\u001b[1;31mNameError\u001b[0m                                 Traceback (most recent call last)",
      "Cell \u001b[1;32mIn[110], line 1\u001b[0m\n\u001b[1;32m----> 1\u001b[0m \u001b[38;5;28mid\u001b[39m(dict2)\n",
      "\u001b[1;31mNameError\u001b[0m: name 'dict2' is not defined"
     ]
    }
   ],
   "source": [
    "id(dict2)"
   ]
  },
  {
   "cell_type": "code",
   "execution_count": null,
   "id": "e425eaad-f44f-4804-9853-5473772fa11d",
   "metadata": {},
   "outputs": [],
   "source": [
    "#copy dict"
   ]
  },
  {
   "cell_type": "code",
   "execution_count": 112,
   "id": "a13e63ff-46e7-4900-9064-dcbe640c4232",
   "metadata": {},
   "outputs": [
    {
     "data": {
      "text/plain": [
       "{'Name': 'leo', 'breed': 'shit', 'DOB': 2022, 'address': 'bachupally'}"
      ]
     },
     "execution_count": 112,
     "metadata": {},
     "output_type": "execute_result"
    }
   ],
   "source": [
    "dict2={'Name':'leo','breed': 'shit','DOB':2022,'address':'bachupally'}\n",
    "dict2"
   ]
  },
  {
   "cell_type": "code",
   "execution_count": 116,
   "id": "0a230cbe-ec2d-4e9e-b959-0efb1b7eb893",
   "metadata": {},
   "outputs": [
    {
     "data": {
      "text/plain": [
       "{'Name': 'leo', 'breed': 'shit', 'DOB': 2022, 'address': 'bachupally'}"
      ]
     },
     "execution_count": 116,
     "metadata": {},
     "output_type": "execute_result"
    }
   ],
   "source": [
    "dict3=dict2\n",
    "dict3"
   ]
  },
  {
   "cell_type": "code",
   "execution_count": 118,
   "id": "18ed8165-9078-4eff-8f8d-5a091565e348",
   "metadata": {},
   "outputs": [
    {
     "data": {
      "text/plain": [
       "1993431495808"
      ]
     },
     "execution_count": 118,
     "metadata": {},
     "output_type": "execute_result"
    }
   ],
   "source": [
    "id(dict2)"
   ]
  },
  {
   "cell_type": "code",
   "execution_count": 120,
   "id": "816dd5ba-7367-4b9a-95d3-48b297c829d1",
   "metadata": {},
   "outputs": [
    {
     "data": {
      "text/plain": [
       "1993431495808"
      ]
     },
     "execution_count": 120,
     "metadata": {},
     "output_type": "execute_result"
    }
   ],
   "source": [
    "id(dict3)"
   ]
  },
  {
   "cell_type": "code",
   "execution_count": 122,
   "id": "cf26e99d-9ed2-4e9d-916a-ba92a067326c",
   "metadata": {},
   "outputs": [
    {
     "data": {
      "text/plain": [
       "{'Name': 'leo', 'breed': 'shit', 'DOB': 2022, 'address': 'bachupally'}"
      ]
     },
     "execution_count": 122,
     "metadata": {},
     "output_type": "execute_result"
    }
   ],
   "source": [
    "dict4=dict2.copy()\n",
    "dict4"
   ]
  },
  {
   "cell_type": "code",
   "execution_count": 124,
   "id": "e430c203-6335-4049-bcc2-d7b3c48a8453",
   "metadata": {},
   "outputs": [
    {
     "data": {
      "text/plain": [
       "1993464835712"
      ]
     },
     "execution_count": 124,
     "metadata": {},
     "output_type": "execute_result"
    }
   ],
   "source": [
    "id(dict4)"
   ]
  },
  {
   "cell_type": "code",
   "execution_count": 128,
   "id": "1ea11efb-fd9d-4e5e-985a-7ca2449116d7",
   "metadata": {},
   "outputs": [
    {
     "data": {
      "text/plain": [
       "{'Name': 'leo', 'breed': 'shit', 'DOB': 2022, 'address': 'kodad'}"
      ]
     },
     "execution_count": 128,
     "metadata": {},
     "output_type": "execute_result"
    }
   ],
   "source": [
    "dict2['address']='kodad'\n",
    "dict2"
   ]
  },
  {
   "cell_type": "code",
   "execution_count": 130,
   "id": "0a2d7057-57ea-412e-bfa4-3e47af4c2c6c",
   "metadata": {},
   "outputs": [
    {
     "data": {
      "text/plain": [
       "{'Name': 'leo', 'breed': 'shit', 'DOB': 2022, 'address': 'kodad'}"
      ]
     },
     "execution_count": 130,
     "metadata": {},
     "output_type": "execute_result"
    }
   ],
   "source": [
    "dict3"
   ]
  },
  {
   "cell_type": "code",
   "execution_count": 132,
   "id": "c090c112-30c9-4913-a547-a8a1e8e088b6",
   "metadata": {},
   "outputs": [
    {
     "data": {
      "text/plain": [
       "{'Name': 'leo', 'breed': 'shit', 'DOB': 2022, 'address': 'bachupally'}"
      ]
     },
     "execution_count": 132,
     "metadata": {},
     "output_type": "execute_result"
    }
   ],
   "source": [
    "dict4 #address of dict4 wontbe changed due to original"
   ]
  },
  {
   "cell_type": "code",
   "execution_count": null,
   "id": "b515ad31-2ab8-4d3a-a43f-e7af3f1fc278",
   "metadata": {},
   "outputs": [],
   "source": [
    "#loop through a dict"
   ]
  },
  {
   "cell_type": "code",
   "execution_count": 134,
   "id": "a6d1c4c0-c840-4be6-b40a-3ddce28aa104",
   "metadata": {},
   "outputs": [
    {
     "data": {
      "text/plain": [
       "{'Name': 'leo', 'breed': 'shit', 'DOB': 2022, 'address': 'bachupally'}"
      ]
     },
     "execution_count": 134,
     "metadata": {},
     "output_type": "execute_result"
    }
   ],
   "source": [
    "dict2={'Name':'leo','breed': 'shit','DOB':2022,'address':'bachupally'}\n",
    "dict2"
   ]
  },
  {
   "cell_type": "code",
   "execution_count": 136,
   "id": "ce43e8b0-40ca-41f5-9626-3dba08faca98",
   "metadata": {},
   "outputs": [
    {
     "name": "stdout",
     "output_type": "stream",
     "text": [
      "Name\n",
      "breed\n",
      "DOB\n",
      "address\n"
     ]
    }
   ],
   "source": [
    "for i in dict2: #dict keys\n",
    "    print(i)"
   ]
  },
  {
   "cell_type": "code",
   "execution_count": 138,
   "id": "1a1bff38-55aa-4896-b296-b9b685f57060",
   "metadata": {},
   "outputs": [
    {
     "name": "stdout",
     "output_type": "stream",
     "text": [
      "leo\n",
      "shit\n",
      "2022\n",
      "bachupally\n"
     ]
    }
   ],
   "source": [
    "for i in dict2:\n",
    "    print(dict2[i]) #dict values/ dict items"
   ]
  },
  {
   "cell_type": "code",
   "execution_count": 140,
   "id": "4a62a185-4e51-4240-a339-3608d94ef2cf",
   "metadata": {},
   "outputs": [
    {
     "name": "stdout",
     "output_type": "stream",
     "text": [
      "Name : leo\n",
      "breed : shit\n",
      "DOB : 2022\n",
      "address : bachupally\n"
     ]
    }
   ],
   "source": [
    "for i in dict2:\n",
    "    print(i,':',dict2[i]) #prints key and value pair"
   ]
  },
  {
   "cell_type": "code",
   "execution_count": null,
   "id": "17e236a4-8c83-4896-8432-ebd3bb08582e",
   "metadata": {},
   "outputs": [],
   "source": [
    "#dict membership"
   ]
  },
  {
   "cell_type": "code",
   "execution_count": 142,
   "id": "58c437cd-6b35-4af3-a564-83787b0c52f5",
   "metadata": {},
   "outputs": [
    {
     "data": {
      "text/plain": [
       "{'Name': 'leo', 'breed': 'shit', 'DOB': 2022, 'address': 'bachupally'}"
      ]
     },
     "execution_count": 142,
     "metadata": {},
     "output_type": "execute_result"
    }
   ],
   "source": [
    "dict2={'Name':'leo','breed': 'shit','DOB':2022,'address':'bachupally'}\n",
    "dict2"
   ]
  },
  {
   "cell_type": "code",
   "execution_count": 150,
   "id": "7fe9da65-02f3-4c34-ac53-7c232760e3e7",
   "metadata": {},
   "outputs": [
    {
     "data": {
      "text/plain": [
       "True"
      ]
     },
     "execution_count": 150,
     "metadata": {},
     "output_type": "execute_result"
    }
   ],
   "source": [
    "'Name' in dict2"
   ]
  },
  {
   "cell_type": "code",
   "execution_count": 152,
   "id": "5b59bcdc-ffbe-4396-8322-06adefa88568",
   "metadata": {},
   "outputs": [
    {
     "data": {
      "text/plain": [
       "False"
      ]
     },
     "execution_count": 152,
     "metadata": {},
     "output_type": "execute_result"
    }
   ],
   "source": [
    "'leo' in dict2"
   ]
  },
  {
   "cell_type": "code",
   "execution_count": 154,
   "id": "eeb2ede3-6641-4d06-bf28-db737752b739",
   "metadata": {},
   "outputs": [
    {
     "data": {
      "text/plain": [
       "False"
      ]
     },
     "execution_count": 154,
     "metadata": {},
     "output_type": "execute_result"
    }
   ],
   "source": [
    "'kodad' in dict2 #kodad is not present in dict2,hence false"
   ]
  },
  {
   "cell_type": "code",
   "execution_count": null,
   "id": "37412af2-5957-4e67-95a9-88bb2b1c3d13",
   "metadata": {},
   "outputs": [],
   "source": []
  }
 ],
 "metadata": {
  "kernelspec": {
   "display_name": "Python 3 (ipykernel)",
   "language": "python",
   "name": "python3"
  },
  "language_info": {
   "codemirror_mode": {
    "name": "ipython",
    "version": 3
   },
   "file_extension": ".py",
   "mimetype": "text/x-python",
   "name": "python",
   "nbconvert_exporter": "python",
   "pygments_lexer": "ipython3",
   "version": "3.12.7"
  }
 },
 "nbformat": 4,
 "nbformat_minor": 5
}
