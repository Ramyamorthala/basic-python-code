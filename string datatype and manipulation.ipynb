{
 "cells": [
  {
   "cell_type": "markdown",
   "id": "45415b60-68a4-4b49-8ca0-7725fbfd2928",
   "metadata": {},
   "source": [
    "#string datatype (string is defined using quotes)"
   ]
  },
  {
   "cell_type": "code",
   "execution_count": 1,
   "id": "3e045a7e-2aa2-4b9d-be60-a5b3ae8c9a60",
   "metadata": {},
   "outputs": [
    {
     "data": {
      "text/plain": [
       "'hello python'"
      ]
     },
     "execution_count": 1,
     "metadata": {},
     "output_type": "execute_result"
    }
   ],
   "source": [
    "st='hello python' #single quote\n",
    "st                     "
   ]
  },
  {
   "cell_type": "code",
   "execution_count": 3,
   "id": "597db821-8714-4ba9-9209-ffe28a582f74",
   "metadata": {},
   "outputs": [
    {
     "data": {
      "text/plain": [
       "'hello python'"
      ]
     },
     "execution_count": 3,
     "metadata": {},
     "output_type": "execute_result"
    }
   ],
   "source": [
    "st=\"hello python\" #double quote\n",
    "st"
   ]
  },
  {
   "cell_type": "code",
   "execution_count": 5,
   "id": "7ba777e0-a922-4e8c-8ce3-1e888d85d7a4",
   "metadata": {},
   "outputs": [
    {
     "data": {
      "text/plain": [
       "'hello python'"
      ]
     },
     "execution_count": 5,
     "metadata": {},
     "output_type": "execute_result"
    }
   ],
   "source": [
    "st='''hello python''' #triple quote\n",
    "st"
   ]
  },
  {
   "cell_type": "code",
   "execution_count": 9,
   "id": "29e63c23-9127-4d18-8fc6-d7da549f243e",
   "metadata": {},
   "outputs": [
    {
     "name": "stdout",
     "output_type": "stream",
     "text": [
      "hello \n",
      "           python\n"
     ]
    }
   ],
   "source": [
    "st='''hello \n",
    "           python'''\n",
    "print(st)"
   ]
  },
  {
   "cell_type": "code",
   "execution_count": 17,
   "id": "7e85e4d0-b3cb-4f3e-b4cb-0b2de08ea0a0",
   "metadata": {},
   "outputs": [
    {
     "data": {
      "text/plain": [
       "'Happyfridayeveryone'"
      ]
     },
     "execution_count": 17,
     "metadata": {},
     "output_type": "execute_result"
    }
   ],
   "source": [
    "st1=('Happy'\n",
    "     'friday'\n",
    "     'everyone')\n",
    "st1"
   ]
  },
  {
   "cell_type": "code",
   "execution_count": 21,
   "id": "8bdaf256-b4d6-4ca2-b7a4-ec2e8d15360b",
   "metadata": {},
   "outputs": [
    {
     "name": "stdout",
     "output_type": "stream",
     "text": [
      "Happy friday everyone \n"
     ]
    }
   ],
   "source": [
    "st1=('Happy '\n",
    "     'friday '    \n",
    "     'everyone ')\n",
    "print(st1)"
   ]
  },
  {
   "cell_type": "code",
   "execution_count": 25,
   "id": "c28f77b1-7f98-48d4-9eeb-cd06aa474f6e",
   "metadata": {},
   "outputs": [
    {
     "data": {
      "text/plain": [
       "'happy'"
      ]
     },
     "execution_count": 25,
     "metadata": {},
     "output_type": "execute_result"
    }
   ],
   "source": [
    "st2='happy'\n",
    "st2"
   ]
  },
  {
   "cell_type": "code",
   "execution_count": 31,
   "id": "0c5c08e5-5bdf-45fd-bcd3-fc4806f59e94",
   "metadata": {},
   "outputs": [
    {
     "name": "stdout",
     "output_type": "stream",
     "text": [
      "happy happy happy happy \n"
     ]
    }
   ],
   "source": [
    "st2='happy'\n",
    "st2='happy '*4\n",
    "print(st2)"
   ]
  },
  {
   "cell_type": "code",
   "execution_count": 33,
   "id": "904869be-279e-431f-af22-fced7e0cc6b0",
   "metadata": {},
   "outputs": [
    {
     "data": {
      "text/plain": [
       "24"
      ]
     },
     "execution_count": 33,
     "metadata": {},
     "output_type": "execute_result"
    }
   ],
   "source": [
    "len(st2)"
   ]
  },
  {
   "cell_type": "markdown",
   "id": "6598cbcb-5daf-46f0-834a-55d99ecb4514",
   "metadata": {},
   "source": [
    "#indexing (forword indexing starts from 0) (backword indexing starts from -1)"
   ]
  },
  {
   "cell_type": "code",
   "execution_count": 39,
   "id": "69267334-c958-44de-bd2d-01017a3a0a04",
   "metadata": {},
   "outputs": [
    {
     "data": {
      "text/plain": [
       "'Hello Python'"
      ]
     },
     "execution_count": 39,
     "metadata": {},
     "output_type": "execute_result"
    }
   ],
   "source": [
    "st='Hello Python' #forword indexing starts from 0 which is h\n",
    "st"
   ]
  },
  {
   "cell_type": "code",
   "execution_count": 43,
   "id": "c869c3bb-d22c-4042-b154-80847922f6a6",
   "metadata": {},
   "outputs": [
    {
     "data": {
      "text/plain": [
       "'H'"
      ]
     },
     "execution_count": 43,
     "metadata": {},
     "output_type": "execute_result"
    }
   ],
   "source": [
    "st[0] "
   ]
  },
  {
   "cell_type": "code",
   "execution_count": 47,
   "id": "fd9e296b-7966-4e58-8e8e-36ad3e67d02c",
   "metadata": {},
   "outputs": [
    {
     "data": {
      "text/plain": [
       "'P'"
      ]
     },
     "execution_count": 47,
     "metadata": {},
     "output_type": "execute_result"
    }
   ],
   "source": [
    "st[6]"
   ]
  },
  {
   "cell_type": "code",
   "execution_count": 49,
   "id": "be4f2361-0e69-4e30-9b72-0b352b0b63a6",
   "metadata": {},
   "outputs": [
    {
     "data": {
      "text/plain": [
       "'o'"
      ]
     },
     "execution_count": 49,
     "metadata": {},
     "output_type": "execute_result"
    }
   ],
   "source": [
    "st[-2]"
   ]
  },
  {
   "cell_type": "code",
   "execution_count": 51,
   "id": "387878ad-5301-4ae4-966e-44b6940d5f95",
   "metadata": {},
   "outputs": [
    {
     "data": {
      "text/plain": [
       "'n'"
      ]
     },
     "execution_count": 51,
     "metadata": {},
     "output_type": "execute_result"
    }
   ],
   "source": [
    "st[len(st)-1]  #Last character in string using len function"
   ]
  },
  {
   "cell_type": "code",
   "execution_count": 57,
   "id": "d766bfc7-1e2b-4f44-a1ef-015bc78ffa16",
   "metadata": {},
   "outputs": [
    {
     "data": {
      "text/plain": [
       "'n'"
      ]
     },
     "execution_count": 57,
     "metadata": {},
     "output_type": "execute_result"
    }
   ],
   "source": [
    "st[11]"
   ]
  },
  {
   "cell_type": "code",
   "execution_count": 59,
   "id": "c7f874b6-7e3f-4afd-a72b-d7107584b67c",
   "metadata": {},
   "outputs": [
    {
     "data": {
      "text/plain": [
       "' '"
      ]
     },
     "execution_count": 59,
     "metadata": {},
     "output_type": "execute_result"
    }
   ],
   "source": [
    "st[5]"
   ]
  },
  {
   "cell_type": "markdown",
   "id": "bac5711c-28b3-492d-8bfa-1b7294d11567",
   "metadata": {},
   "source": [
    "#string slicing"
   ]
  },
  {
   "cell_type": "code",
   "execution_count": 63,
   "id": "f96a0936-6bd1-40b6-a239-8b57215dc7b9",
   "metadata": {},
   "outputs": [
    {
     "data": {
      "text/plain": [
       "'Hello'"
      ]
     },
     "execution_count": 63,
     "metadata": {},
     "output_type": "execute_result"
    }
   ],
   "source": [
    "st[0:5] #slicing give elements from 0 to 5 index location in string"
   ]
  },
  {
   "cell_type": "code",
   "execution_count": 65,
   "id": "293dc110-1f10-4aba-9dd1-d590d8f7bbe9",
   "metadata": {},
   "outputs": [
    {
     "data": {
      "text/plain": [
       "'Pytho'"
      ]
     },
     "execution_count": 65,
     "metadata": {},
     "output_type": "execute_result"
    }
   ],
   "source": [
    "st[6:-1]"
   ]
  },
  {
   "cell_type": "code",
   "execution_count": 67,
   "id": "748df297-fa6b-40a7-a473-48608bfa1ae6",
   "metadata": {},
   "outputs": [
    {
     "data": {
      "text/plain": [
       "'Pytho'"
      ]
     },
     "execution_count": 67,
     "metadata": {},
     "output_type": "execute_result"
    }
   ],
   "source": [
    "st[6:11]"
   ]
  },
  {
   "cell_type": "code",
   "execution_count": 69,
   "id": "56ea59f6-3cd4-4280-b8c4-c087c0b05729",
   "metadata": {},
   "outputs": [
    {
     "data": {
      "text/plain": [
       "'Hello '"
      ]
     },
     "execution_count": 69,
     "metadata": {},
     "output_type": "execute_result"
    }
   ],
   "source": [
    "st[:6] #gives 1st 6 elements/charecters from string"
   ]
  },
  {
   "cell_type": "code",
   "execution_count": 71,
   "id": "c26f5b62-e9c5-4712-a593-d0ab2d9bffe1",
   "metadata": {},
   "outputs": [
    {
     "data": {
      "text/plain": [
       "'Python'"
      ]
     },
     "execution_count": 71,
     "metadata": {},
     "output_type": "execute_result"
    }
   ],
   "source": [
    "st[6:] #gives 1ast 6 elements/charecters from string"
   ]
  },
  {
   "cell_type": "markdown",
   "id": "6cb3c1ef-a9de-4f45-bde1-83667ebb94ee",
   "metadata": {},
   "source": [
    "#update and delete string"
   ]
  },
  {
   "cell_type": "code",
   "execution_count": 75,
   "id": "31c03d88-4c27-46da-be08-a154f7b8a8e4",
   "metadata": {},
   "outputs": [
    {
     "data": {
      "text/plain": [
       "'Hello Python'"
      ]
     },
     "execution_count": 75,
     "metadata": {},
     "output_type": "execute_result"
    }
   ],
   "source": [
    "st"
   ]
  },
  {
   "cell_type": "code",
   "execution_count": 79,
   "id": "18a9122c-9a8b-4ce9-9e8a-aa775fee1a4e",
   "metadata": {},
   "outputs": [
    {
     "ename": "TypeError",
     "evalue": "'str' object does not support item assignment",
     "output_type": "error",
     "traceback": [
      "\u001b[1;31m---------------------------------------------------------------------------\u001b[0m",
      "\u001b[1;31mTypeError\u001b[0m                                 Traceback (most recent call last)",
      "Cell \u001b[1;32mIn[79], line 1\u001b[0m\n\u001b[1;32m----> 1\u001b[0m st[\u001b[38;5;241m0\u001b[39m:\u001b[38;5;241m5\u001b[39m]\u001b[38;5;241m=\u001b[39m\u001b[38;5;124m'\u001b[39m\u001b[38;5;124mholaa\u001b[39m\u001b[38;5;124m'\u001b[39m\n\u001b[0;32m      2\u001b[0m st\n",
      "\u001b[1;31mTypeError\u001b[0m: 'str' object does not support item assignment"
     ]
    }
   ],
   "source": [
    "st[0:5]='holaa' #strings are immutable-elements of string cannot be changed once assigned\n",
    "st"
   ]
  },
  {
   "cell_type": "code",
   "execution_count": 85,
   "id": "7260207e-65ae-4054-9950-84737f4c0ca7",
   "metadata": {},
   "outputs": [
    {
     "ename": "NameError",
     "evalue": "name 'st' is not defined",
     "output_type": "error",
     "traceback": [
      "\u001b[1;31m---------------------------------------------------------------------------\u001b[0m",
      "\u001b[1;31mNameError\u001b[0m                                 Traceback (most recent call last)",
      "Cell \u001b[1;32mIn[85], line 2\u001b[0m\n\u001b[0;32m      1\u001b[0m \u001b[38;5;28;01mdel\u001b[39;00m st\n\u001b[1;32m----> 2\u001b[0m st\n",
      "\u001b[1;31mNameError\u001b[0m: name 'st' is not defined"
     ]
    }
   ],
   "source": [
    "del st #deletes the string\n",
    "st"
   ]
  },
  {
   "cell_type": "code",
   "execution_count": 87,
   "id": "5e2fdae4-5a0e-4f0b-bb07-fbd718eccd53",
   "metadata": {},
   "outputs": [
    {
     "ename": "NameError",
     "evalue": "name 'st' is not defined",
     "output_type": "error",
     "traceback": [
      "\u001b[1;31m---------------------------------------------------------------------------\u001b[0m",
      "\u001b[1;31mNameError\u001b[0m                                 Traceback (most recent call last)",
      "Cell \u001b[1;32mIn[87], line 1\u001b[0m\n\u001b[1;32m----> 1\u001b[0m st\n",
      "\u001b[1;31mNameError\u001b[0m: name 'st' is not defined"
     ]
    }
   ],
   "source": [
    "st"
   ]
  },
  {
   "cell_type": "code",
   "execution_count": null,
   "id": "7bdf9509-9e0e-4fe5-890a-b03ee8d0bcf6",
   "metadata": {},
   "outputs": [],
   "source": [
    "#string concatenation"
   ]
  },
  {
   "cell_type": "code",
   "execution_count": 91,
   "id": "cef7626b-6be7-4c3e-b2e4-37eda5b0d077",
   "metadata": {},
   "outputs": [
    {
     "data": {
      "text/plain": [
       "'hello leo '"
      ]
     },
     "execution_count": 91,
     "metadata": {},
     "output_type": "execute_result"
    }
   ],
   "source": [
    "s1='hello '\n",
    "s2='leo '\n",
    "s3=s1+s2\n",
    "s3"
   ]
  },
  {
   "cell_type": "markdown",
   "id": "3dd43d5d-fa27-44f1-9600-f6bb47ed5b78",
   "metadata": {},
   "source": [
    "#string manipulation"
   ]
  },
  {
   "cell_type": "code",
   "execution_count": null,
   "id": "8463276f-8b6c-43b7-b574-9e8df9422f4e",
   "metadata": {},
   "outputs": [],
   "source": [
    "#escape charecter- describe using '\\' "
   ]
  },
  {
   "cell_type": "code",
   "execution_count": 8,
   "id": "cfc3a308-4549-4bf4-aefb-0fb4913de162",
   "metadata": {},
   "outputs": [
    {
     "name": "stdout",
     "output_type": "stream",
     "text": [
      "hello there!\n",
      "How are you doing?\n",
      "I am fine.\n"
     ]
    }
   ],
   "source": [
    "print('hello there!\\nHow are you doing?\\nI am fine.') # \\n creates newline(line break)"
   ]
  },
  {
   "cell_type": "code",
   "execution_count": 14,
   "id": "3f982287-7890-4f84-9df8-4415dda7148d",
   "metadata": {},
   "outputs": [
    {
     "ename": "SyntaxError",
     "evalue": "invalid syntax. Perhaps you forgot a comma? (2454252825.py, line 1)",
     "output_type": "error",
     "traceback": [
      "\u001b[1;36m  Cell \u001b[1;32mIn[14], line 1\u001b[1;36m\u001b[0m\n\u001b[1;33m    print('hello there!\\nHow are you doing?\\nI'm fine.') #\\' prints as single quote(I'm)\u001b[0m\n\u001b[1;37m          ^\u001b[0m\n\u001b[1;31mSyntaxError\u001b[0m\u001b[1;31m:\u001b[0m invalid syntax. Perhaps you forgot a comma?\n"
     ]
    }
   ],
   "source": [
    "print('hello there!\\nHow are you doing?\\nI'm fine.') # \\' prints as single quote(I'm)"
   ]
  },
  {
   "cell_type": "code",
   "execution_count": 16,
   "id": "6f918c1e-c84b-44cc-9243-0f51a0f29938",
   "metadata": {},
   "outputs": [
    {
     "name": "stdout",
     "output_type": "stream",
     "text": [
      "hello there!\n",
      "How are you doing?\n",
      "I'm fine.\n"
     ]
    }
   ],
   "source": [
    "print('hello there!\\nHow are you doing?\\nI\\'m fine.')"
   ]
  },
  {
   "cell_type": "code",
   "execution_count": 18,
   "id": "0746d6a6-d03f-4531-95cc-36842b19f5d6",
   "metadata": {},
   "outputs": [
    {
     "name": "stdout",
     "output_type": "stream",
     "text": [
      "What is your name?\n",
      "my name is ramya.\n",
      " what's your's?\n"
     ]
    }
   ],
   "source": [
    "print('What is your name?\\nmy name is ramya.\\n what\\'s your\\'s?')"
   ]
  },
  {
   "cell_type": "code",
   "execution_count": 20,
   "id": "be53ec2d-bcf6-49a7-80a7-bf9e170f5715",
   "metadata": {},
   "outputs": [
    {
     "name": "stdout",
     "output_type": "stream",
     "text": [
      "hello there!\\nHow are you doing?\\nI\\'m fine.\n"
     ]
    }
   ],
   "source": [
    "print(r'hello there!\\nHow are you doing?\\nI\\'m fine.') #raw strings ( A raw string entirely ignores all escape characters and prints any backslash that appears\n",
    " in the string)"
   ]
  },
  {
   "cell_type": "markdown",
   "id": "2421b611-cb66-4ae7-8a2a-1d191f5792bb",
   "metadata": {},
   "source": [
    "#multiline strings"
   ]
  },
  {
   "cell_type": "code",
   "execution_count": 27,
   "id": "1f473343-0579-4226-8001-33fa3c6bb0ad",
   "metadata": {},
   "outputs": [
    {
     "ename": "SyntaxError",
     "evalue": "unterminated string literal (detected at line 2) (610985754.py, line 2)",
     "output_type": "error",
     "traceback": [
      "\u001b[1;36m  Cell \u001b[1;32mIn[27], line 2\u001b[1;36m\u001b[0m\n\u001b[1;33m    'hello leo\u001b[0m\n\u001b[1;37m    ^\u001b[0m\n\u001b[1;31mSyntaxError\u001b[0m\u001b[1;31m:\u001b[0m unterminated string literal (detected at line 2)\n"
     ]
    }
   ],
   "source": [
    "print(\n",
    "    'hello leo\n",
    "    i wish we met earlier\n",
    "    i love you so much')"
   ]
  },
  {
   "cell_type": "code",
   "execution_count": 39,
   "id": "ac6d40a9-424c-4ea9-a6b6-6f48b326ed21",
   "metadata": {},
   "outputs": [
    {
     "name": "stdout",
     "output_type": "stream",
     "text": [
      "hello leo\n",
      "    i wish we met earlier\n",
      "    i love you so much\n"
     ]
    }
   ],
   "source": [
    "print(                          #error cleared when use 3 quotes\n",
    "   \"\"\"hello leo\n",
    "    i wish we met earlier\n",
    "    i love you so much\"\"\")"
   ]
  },
  {
   "cell_type": "code",
   "execution_count": 35,
   "id": "5980fa5a-b611-4c8b-bf33-1094d5969f32",
   "metadata": {},
   "outputs": [
    {
     "name": "stdout",
     "output_type": "stream",
     "text": [
      "hello leo\n",
      "    i wish we met earlier\n",
      "    i love you so much\n"
     ]
    }
   ],
   "source": [
    "print(                          #error cleared when use 3 quotes\n",
    "    '''hello leo\n",
    "    i wish we met earlier\n",
    "    i love you so much''')"
   ]
  },
  {
   "cell_type": "markdown",
   "id": "4941e74e-ad63-4baa-8576-7bf7276b6278",
   "metadata": {},
   "source": [
    "#the in or not in operators"
   ]
  },
  {
   "cell_type": "code",
   "execution_count": 41,
   "id": "408f135d-a91a-4bcb-a187-9018bf5d4931",
   "metadata": {},
   "outputs": [
    {
     "data": {
      "text/plain": [
       "True"
      ]
     },
     "execution_count": 41,
     "metadata": {},
     "output_type": "execute_result"
    }
   ],
   "source": [
    "'hello' in 'hello world'"
   ]
  },
  {
   "cell_type": "code",
   "execution_count": 45,
   "id": "e594573d-91fc-41e7-b4d5-3d1d06074413",
   "metadata": {},
   "outputs": [
    {
     "data": {
      "text/plain": [
       "False"
      ]
     },
     "execution_count": 45,
     "metadata": {},
     "output_type": "execute_result"
    }
   ],
   "source": [
    "'Hello' in 'hello world' (#cause H is uppercase)"
   ]
  },
  {
   "cell_type": "code",
   "execution_count": 47,
   "id": "07e7b4c3-9fd3-4b87-aa16-34fee47c4f68",
   "metadata": {},
   "outputs": [
    {
     "data": {
      "text/plain": [
       "True"
      ]
     },
     "execution_count": 47,
     "metadata": {},
     "output_type": "execute_result"
    }
   ],
   "source": [
    "'world' in 'hello world'"
   ]
  },
  {
   "cell_type": "code",
   "execution_count": 49,
   "id": "a74c01b0-3486-42fe-a7ea-ff99aea215c4",
   "metadata": {},
   "outputs": [
    {
     "data": {
      "text/plain": [
       "False"
      ]
     },
     "execution_count": 49,
     "metadata": {},
     "output_type": "execute_result"
    }
   ],
   "source": [
    "'cats' not in 'cats and dogs'"
   ]
  },
  {
   "cell_type": "code",
   "execution_count": 53,
   "id": "941d053d-99b8-46ec-9770-0fce348539b0",
   "metadata": {},
   "outputs": [
    {
     "data": {
      "text/plain": [
       "True"
      ]
     },
     "execution_count": 53,
     "metadata": {},
     "output_type": "execute_result"
    }
   ],
   "source": [
    "'' in 'cats'"
   ]
  },
  {
   "cell_type": "code",
   "execution_count": null,
   "id": "99a17772-610a-4099-8168-6d5a7dea85f9",
   "metadata": {},
   "outputs": [],
   "source": [
    "#upper(),lower() and title() ( Transforms a string to upper, lower and title case)"
   ]
  },
  {
   "cell_type": "code",
   "execution_count": 55,
   "id": "b2b7c80c-287e-49ad-8afb-8923530554f2",
   "metadata": {},
   "outputs": [
    {
     "data": {
      "text/plain": [
       "'Hello world'"
      ]
     },
     "execution_count": 55,
     "metadata": {},
     "output_type": "execute_result"
    }
   ],
   "source": [
    "greet='Hello world'\n",
    "greet\n"
   ]
  },
  {
   "cell_type": "code",
   "execution_count": 57,
   "id": "5602221b-bdfa-4618-9017-82fea8fe0c54",
   "metadata": {},
   "outputs": [
    {
     "data": {
      "text/plain": [
       "'HELLO WORLD'"
      ]
     },
     "execution_count": 57,
     "metadata": {},
     "output_type": "execute_result"
    }
   ],
   "source": [
    "greet.upper()"
   ]
  },
  {
   "cell_type": "code",
   "execution_count": 59,
   "id": "5602ae1a-1592-4ebf-a857-32db5023fb4a",
   "metadata": {},
   "outputs": [
    {
     "data": {
      "text/plain": [
       "'hello world'"
      ]
     },
     "execution_count": 59,
     "metadata": {},
     "output_type": "execute_result"
    }
   ],
   "source": [
    "greet.lower()"
   ]
  },
  {
   "cell_type": "code",
   "execution_count": 61,
   "id": "fbe59826-dde1-4a4e-8008-d266ed7c6605",
   "metadata": {},
   "outputs": [
    {
     "data": {
      "text/plain": [
       "'Hello World'"
      ]
     },
     "execution_count": 61,
     "metadata": {},
     "output_type": "execute_result"
    }
   ],
   "source": [
    "greet.title()"
   ]
  },
  {
   "cell_type": "markdown",
   "id": "5fb7d87d-e8b0-445d-b313-f58fad09d983",
   "metadata": {},
   "source": [
    "#isupper and islower method"
   ]
  },
  {
   "cell_type": "code",
   "execution_count": 63,
   "id": "a9eb8bbb-ceca-4d14-9d88-7fbeb3be6ce8",
   "metadata": {},
   "outputs": [
    {
     "data": {
      "text/plain": [
       "'Hello world'"
      ]
     },
     "execution_count": 63,
     "metadata": {},
     "output_type": "execute_result"
    }
   ],
   "source": [
    "greet"
   ]
  },
  {
   "cell_type": "code",
   "execution_count": 65,
   "id": "d9f5f4da-7746-4ec3-9595-a397d63d9805",
   "metadata": {},
   "outputs": [
    {
     "data": {
      "text/plain": [
       "False"
      ]
     },
     "execution_count": 65,
     "metadata": {},
     "output_type": "execute_result"
    }
   ],
   "source": [
    "greet.islower()"
   ]
  },
  {
   "cell_type": "code",
   "execution_count": 67,
   "id": "e9b0d08f-12f8-4076-bdce-eae190cbae22",
   "metadata": {},
   "outputs": [
    {
     "data": {
      "text/plain": [
       "False"
      ]
     },
     "execution_count": 67,
     "metadata": {},
     "output_type": "execute_result"
    }
   ],
   "source": [
    "greet.isupper()"
   ]
  },
  {
   "cell_type": "code",
   "execution_count": 69,
   "id": "9eda0164-e8fa-4300-936b-67d09abf085a",
   "metadata": {},
   "outputs": [
    {
     "data": {
      "text/plain": [
       "'hello world'"
      ]
     },
     "execution_count": 69,
     "metadata": {},
     "output_type": "execute_result"
    }
   ],
   "source": [
    "greet='hello world'\n",
    "greet"
   ]
  },
  {
   "cell_type": "code",
   "execution_count": 71,
   "id": "44e329a6-2dae-4b91-9267-d53d7c9bc171",
   "metadata": {},
   "outputs": [
    {
     "data": {
      "text/plain": [
       "True"
      ]
     },
     "execution_count": 71,
     "metadata": {},
     "output_type": "execute_result"
    }
   ],
   "source": [
    "greet.islower()"
   ]
  },
  {
   "cell_type": "code",
   "execution_count": 75,
   "id": "dc92d40d-8210-4bac-9891-72af8758fb11",
   "metadata": {},
   "outputs": [
    {
     "data": {
      "text/plain": [
       "True"
      ]
     },
     "execution_count": 75,
     "metadata": {},
     "output_type": "execute_result"
    }
   ],
   "source": [
    "'HELLO'.isupper()"
   ]
  },
  {
   "cell_type": "code",
   "execution_count": 77,
   "id": "e264470b-7e68-4124-a932-17902f85904f",
   "metadata": {},
   "outputs": [
    {
     "data": {
      "text/plain": [
       "False"
      ]
     },
     "execution_count": 77,
     "metadata": {},
     "output_type": "execute_result"
    }
   ],
   "source": [
    "'abcd12345'.isupper()"
   ]
  },
  {
   "cell_type": "code",
   "execution_count": 79,
   "id": "912c7b9c-0a87-4c59-a297-041c7162bbe6",
   "metadata": {},
   "outputs": [
    {
     "data": {
      "text/plain": [
       "True"
      ]
     },
     "execution_count": 79,
     "metadata": {},
     "output_type": "execute_result"
    }
   ],
   "source": [
    "'abcd12345'.islower()"
   ]
  },
  {
   "cell_type": "code",
   "execution_count": null,
   "id": "37c7f9d7-f03f-4399-8757-19d0fc45c6ec",
   "metadata": {},
   "outputs": [],
   "source": [
    "# The isX string methods"
   ]
  },
  {
   "cell_type": "markdown",
   "id": "b29edabc-33f4-4738-8c78-09eb8d9f0d36",
   "metadata": {},
   "source": [
    "#Method Description\n",
    " isalpha() returns `True` if the string consists only of letters.\n",
    " isalnum() returns `True` if the string consists only of letters and numbers.\n",
    " isdecimal() returns `True` if the string consists only of numbers.\n",
    " isspace() returns `True` if the string consists only of spaces, tabs, and new-lines.\n",
    " istitle() returns `True` if the string consists only of words that begin with an\n",
    " uppercase letter followed by only lowercase characters."
   ]
  },
  {
   "cell_type": "code",
   "execution_count": null,
   "id": "1b787d14-dddd-4dc9-9a43-527cb3fd9f75",
   "metadata": {},
   "outputs": [],
   "source": [
    "# startswith() and endswith()"
   ]
  },
  {
   "cell_type": "code",
   "execution_count": 81,
   "id": "79d6a86c-ff99-4ac7-bed2-3b4d9e4be5d0",
   "metadata": {},
   "outputs": [
    {
     "data": {
      "text/plain": [
       "True"
      ]
     },
     "execution_count": 81,
     "metadata": {},
     "output_type": "execute_result"
    }
   ],
   "source": [
    "'Hello world'.startswith('Hello')"
   ]
  },
  {
   "cell_type": "code",
   "execution_count": 83,
   "id": "4fc29a02-2586-4b79-b873-6d8a69b088d8",
   "metadata": {},
   "outputs": [
    {
     "data": {
      "text/plain": [
       "False"
      ]
     },
     "execution_count": 83,
     "metadata": {},
     "output_type": "execute_result"
    }
   ],
   "source": [
    "'Hello world'.startswith('hello')"
   ]
  },
  {
   "cell_type": "code",
   "execution_count": 85,
   "id": "23b8c3d9-d0d4-4c76-9de1-cd23c885447f",
   "metadata": {},
   "outputs": [
    {
     "data": {
      "text/plain": [
       "True"
      ]
     },
     "execution_count": 85,
     "metadata": {},
     "output_type": "execute_result"
    }
   ],
   "source": [
    "'Hello world'.endswith('world')"
   ]
  },
  {
   "cell_type": "code",
   "execution_count": 87,
   "id": "97805639-b077-4879-a512-acc178c65f31",
   "metadata": {},
   "outputs": [
    {
     "data": {
      "text/plain": [
       "False"
      ]
     },
     "execution_count": 87,
     "metadata": {},
     "output_type": "execute_result"
    }
   ],
   "source": [
    "'abcde1234'.startswith('abcdefg')"
   ]
  },
  {
   "cell_type": "code",
   "execution_count": 89,
   "id": "53e9a1b9-4fb5-4932-a1e7-a0ca715f93d8",
   "metadata": {},
   "outputs": [
    {
     "data": {
      "text/plain": [
       "True"
      ]
     },
     "execution_count": 89,
     "metadata": {},
     "output_type": "execute_result"
    }
   ],
   "source": [
    "'abcde1234'.endswith('34')"
   ]
  },
  {
   "cell_type": "markdown",
   "id": "d8ed9c40-450f-48f9-b4fb-5842e9728846",
   "metadata": {},
   "source": [
    "# join() and split()"
   ]
  },
  {
   "cell_type": "markdown",
   "id": "4f9fe154-fba9-4c6a-a540-60c7277ea2bd",
   "metadata": {},
   "source": [
    "#join()"
   ]
  },
  {
   "cell_type": "code",
   "execution_count": 93,
   "id": "34c40f60-ab65-4cca-bfcf-2355bdecf105",
   "metadata": {},
   "outputs": [
    {
     "data": {
      "text/plain": [
       "'my name is ramya'"
      ]
     },
     "execution_count": 93,
     "metadata": {},
     "output_type": "execute_result"
    }
   ],
   "source": [
    "''.join('my ''name ''is ''ramya') #joined the sentence"
   ]
  },
  {
   "cell_type": "code",
   "execution_count": 103,
   "id": "05fa28e3-a4f1-4445-a99d-f7b0c414bb8b",
   "metadata": {},
   "outputs": [
    {
     "data": {
      "text/plain": [
       "'cats,dogs,pets'"
      ]
     },
     "execution_count": 103,
     "metadata": {},
     "output_type": "execute_result"
    }
   ],
   "source": [
    "','.join(['cats','dogs','pets']) #comma helps join and separate the items"
   ]
  },
  {
   "cell_type": "markdown",
   "id": "63ce51c8-2b07-4ec1-ac35-e1bb3931db35",
   "metadata": {},
   "source": [
    "#split()  # The`split()`method splits a `string` into a `list`"
   ]
  },
  {
   "cell_type": "code",
   "execution_count": 105,
   "id": "01d0a009-2725-4bb5-9ff0-12da87f488d4",
   "metadata": {},
   "outputs": [
    {
     "data": {
      "text/plain": [
       "['my', 'name', 'is', 'ramya']"
      ]
     },
     "execution_count": 105,
     "metadata": {},
     "output_type": "execute_result"
    }
   ],
   "source": [
    "'my name is ramya'.split()"
   ]
  },
  {
   "cell_type": "code",
   "execution_count": 109,
   "id": "370ffcf1-62a0-4cee-adbc-4e91e5a7fa68",
   "metadata": {},
   "outputs": [
    {
     "data": {
      "text/plain": [
       "['my n', 'me is r', 'my', '']"
      ]
     },
     "execution_count": 109,
     "metadata": {},
     "output_type": "execute_result"
    }
   ],
   "source": [
    "'my name is ramya'.split('a')"
   ]
  },
  {
   "cell_type": "code",
   "execution_count": 122,
   "id": "c85c3383-fdd8-45fc-a764-6b38719ba82a",
   "metadata": {},
   "outputs": [
    {
     "data": {
      "text/plain": [
       "['my', 'name', 'is', 'ramya']"
      ]
     },
     "execution_count": 122,
     "metadata": {},
     "output_type": "execute_result"
    }
   ],
   "source": [
    "'my name is ramya'.split(' ')"
   ]
  },
  {
   "cell_type": "markdown",
   "id": "12d8e1b9-86d7-4288-b998-cd1479d414d3",
   "metadata": {},
   "source": [
    "#Justifying text with rjust(), ljust() and center()"
   ]
  },
  {
   "cell_type": "code",
   "execution_count": 124,
   "id": "28daeafd-1997-42ff-837b-b2111fec7faa",
   "metadata": {},
   "outputs": [
    {
     "data": {
      "text/plain": [
       "'Hello world'"
      ]
     },
     "execution_count": 124,
     "metadata": {},
     "output_type": "execute_result"
    }
   ],
   "source": [
    "'Hello world'.rjust(10)"
   ]
  },
  {
   "cell_type": "code",
   "execution_count": 126,
   "id": "6a68f052-26eb-49f8-8d83-cc96d832087a",
   "metadata": {},
   "outputs": [
    {
     "data": {
      "text/plain": [
       "'                   Hello world'"
      ]
     },
     "execution_count": 126,
     "metadata": {},
     "output_type": "execute_result"
    }
   ],
   "source": [
    "'Hello world'.rjust(30)"
   ]
  },
  {
   "cell_type": "code",
   "execution_count": 130,
   "id": "c3f2c45b-8d68-4b44-a061-7a15829b19c3",
   "metadata": {},
   "outputs": [
    {
     "data": {
      "text/plain": [
       "'         Hello world          '"
      ]
     },
     "execution_count": 130,
     "metadata": {},
     "output_type": "execute_result"
    }
   ],
   "source": [
    "'Hello world'.center(30)"
   ]
  },
  {
   "cell_type": "code",
   "execution_count": 132,
   "id": "70c0904c-1fde-495d-9c20-2aa631ed63be",
   "metadata": {},
   "outputs": [
    {
     "data": {
      "text/plain": [
       "'Hello world                   '"
      ]
     },
     "execution_count": 132,
     "metadata": {},
     "output_type": "execute_result"
    }
   ],
   "source": [
    "'Hello world'.ljust(30)"
   ]
  },
  {
   "cell_type": "code",
   "execution_count": 136,
   "id": "14badfd2-7250-4fb7-8d48-2bc6a4b74785",
   "metadata": {},
   "outputs": [
    {
     "data": {
      "text/plain": [
       "'Hello world...................'"
      ]
     },
     "execution_count": 136,
     "metadata": {},
     "output_type": "execute_result"
    }
   ],
   "source": [
    "'Hello world'.ljust(30,'.') #we can also use other charecters apart from space"
   ]
  },
  {
   "cell_type": "code",
   "execution_count": 148,
   "id": "2e0b2c34-8f01-43f4-b43e-91fe1419b4bd",
   "metadata": {},
   "outputs": [
    {
     "data": {
      "text/plain": [
       "'Hello world>>>>>>>>>'"
      ]
     },
     "execution_count": 148,
     "metadata": {},
     "output_type": "execute_result"
    }
   ],
   "source": [
    "'Hello world'.ljust(20,'>')"
   ]
  },
  {
   "cell_type": "markdown",
   "id": "b171c9ec-d745-4da2-a2e8-47227f58a219",
   "metadata": {},
   "source": [
    "#Removing whitespace with strip(), rstrip(), and lstrip()"
   ]
  },
  {
   "cell_type": "code",
   "execution_count": 153,
   "id": "f29c60cf-900a-4cec-9727-4e4ab72909af",
   "metadata": {},
   "outputs": [
    {
     "data": {
      "text/plain": [
       "'Hello world                   '"
      ]
     },
     "execution_count": 153,
     "metadata": {},
     "output_type": "execute_result"
    }
   ],
   "source": [
    "st='Hello world                   '\n",
    "st"
   ]
  },
  {
   "cell_type": "code",
   "execution_count": 155,
   "id": "fe36327a-6809-4241-9c69-8fe44cbf5fbf",
   "metadata": {},
   "outputs": [
    {
     "data": {
      "text/plain": [
       "'Hello world'"
      ]
     },
     "execution_count": 155,
     "metadata": {},
     "output_type": "execute_result"
    }
   ],
   "source": [
    "st.strip()"
   ]
  },
  {
   "cell_type": "code",
   "execution_count": 159,
   "id": "b885bd2a-512a-41ed-a5d5-30ef9942baba",
   "metadata": {},
   "outputs": [
    {
     "data": {
      "text/plain": [
       "'Hello '"
      ]
     },
     "execution_count": 159,
     "metadata": {},
     "output_type": "execute_result"
    }
   ],
   "source": [
    "'Hello world'.strip('world')"
   ]
  },
  {
   "cell_type": "code",
   "execution_count": 161,
   "id": "7bf07ef0-d20c-4210-b9a7-80666b8cab0b",
   "metadata": {},
   "outputs": [
    {
     "data": {
      "text/plain": [
       "'Hello world                   '"
      ]
     },
     "execution_count": 161,
     "metadata": {},
     "output_type": "execute_result"
    }
   ],
   "source": [
    "st"
   ]
  },
  {
   "cell_type": "code",
   "execution_count": 163,
   "id": "e8635478-1d6a-49cb-857d-9f67e4901325",
   "metadata": {},
   "outputs": [
    {
     "data": {
      "text/plain": [
       "'Hello world                   '"
      ]
     },
     "execution_count": 163,
     "metadata": {},
     "output_type": "execute_result"
    }
   ],
   "source": [
    "st.lstrip()"
   ]
  },
  {
   "cell_type": "code",
   "execution_count": 165,
   "id": "9ec0d9a0-5c09-46d7-a5f5-92455671dbbc",
   "metadata": {},
   "outputs": [
    {
     "data": {
      "text/plain": [
       "'Hello world'"
      ]
     },
     "execution_count": 165,
     "metadata": {},
     "output_type": "execute_result"
    }
   ],
   "source": [
    "st.rstrip()"
   ]
  },
  {
   "cell_type": "code",
   "execution_count": 175,
   "id": "f617669a-d54e-448b-9442-0f63316e9768",
   "metadata": {},
   "outputs": [
    {
     "data": {
      "text/plain": [
       "'Hellomymyworldmymymy'"
      ]
     },
     "execution_count": 175,
     "metadata": {},
     "output_type": "execute_result"
    }
   ],
   "source": [
    "st2='Hellomymyworldmymymy'\n",
    "st2"
   ]
  },
  {
   "cell_type": "code",
   "execution_count": 173,
   "id": "dcb4e13d-f723-4f40-8540-aa8ca8df3b7e",
   "metadata": {},
   "outputs": [
    {
     "data": {
      "text/plain": [
       "'Hellomymyworld'"
      ]
     },
     "execution_count": 173,
     "metadata": {},
     "output_type": "execute_result"
    }
   ],
   "source": [
    "st2.strip('my')"
   ]
  },
  {
   "cell_type": "code",
   "execution_count": 177,
   "id": "a8ec3a86-6c1c-4063-9202-8e9d351b813c",
   "metadata": {},
   "outputs": [
    {
     "data": {
      "text/plain": [
       "'SpamSpamBaconSpamEggsSpamSpam'"
      ]
     },
     "execution_count": 177,
     "metadata": {},
     "output_type": "execute_result"
    }
   ],
   "source": [
    "spam = 'SpamSpamBaconSpamEggsSpamSpam'\n",
    "spam"
   ]
  },
  {
   "cell_type": "code",
   "execution_count": 185,
   "id": "6098ae5e-c965-4da2-b056-d92c9d67cb1c",
   "metadata": {},
   "outputs": [
    {
     "data": {
      "text/plain": [
       "'BaconSpamEggs'"
      ]
     },
     "execution_count": 185,
     "metadata": {},
     "output_type": "execute_result"
    }
   ],
   "source": [
    "spam.strip('ampS')"
   ]
  },
  {
   "cell_type": "code",
   "execution_count": 187,
   "id": "9a4f6ba3-a296-49fc-9602-8f0ddf91cd1c",
   "metadata": {},
   "outputs": [],
   "source": [
    "#count method"
   ]
  },
  {
   "cell_type": "code",
   "execution_count": 189,
   "id": "d2869401-dc39-4333-bc93-62d51923e87a",
   "metadata": {},
   "outputs": [
    {
     "data": {
      "text/plain": [
       "'one rose two rose three rose 4 rose'"
      ]
     },
     "execution_count": 189,
     "metadata": {},
     "output_type": "execute_result"
    }
   ],
   "source": [
    "sentence='one rose two rose three rose 4 rose'\n",
    "sentence"
   ]
  },
  {
   "cell_type": "code",
   "execution_count": 193,
   "id": "8edcfabe-20a7-4e80-b0af-71124cf77b83",
   "metadata": {},
   "outputs": [
    {
     "data": {
      "text/plain": [
       "4"
      ]
     },
     "execution_count": 193,
     "metadata": {},
     "output_type": "execute_result"
    }
   ],
   "source": [
    "sentence.count('rose')"
   ]
  },
  {
   "cell_type": "code",
   "execution_count": 197,
   "id": "a67ce7ea-42b9-4a37-9c72-52915660985d",
   "metadata": {},
   "outputs": [
    {
     "data": {
      "text/plain": [
       "1"
      ]
     },
     "execution_count": 197,
     "metadata": {},
     "output_type": "execute_result"
    }
   ],
   "source": [
    "sentence.count('4')"
   ]
  },
  {
   "cell_type": "code",
   "execution_count": 199,
   "id": "19489303-f742-45de-9025-31a687f5ef84",
   "metadata": {},
   "outputs": [
    {
     "data": {
      "text/plain": [
       "7"
      ]
     },
     "execution_count": 199,
     "metadata": {},
     "output_type": "execute_result"
    }
   ],
   "source": [
    "sentence.count('e')"
   ]
  },
  {
   "cell_type": "markdown",
   "id": "0b8c01f7-95a1-42d6-8f1d-3d221f59b1e5",
   "metadata": {},
   "source": [
    "#replace method"
   ]
  },
  {
   "cell_type": "code",
   "execution_count": 201,
   "id": "43240f5e-b6ca-4de7-a760-53a94e677a1c",
   "metadata": {},
   "outputs": [
    {
     "data": {
      "text/plain": [
       "'hello world'"
      ]
     },
     "execution_count": 201,
     "metadata": {},
     "output_type": "execute_result"
    }
   ],
   "source": [
    "t='hello world'\n",
    "t"
   ]
  },
  {
   "cell_type": "code",
   "execution_count": 203,
   "id": "693a5624-5e19-44ec-9ef0-9d0cfa971e88",
   "metadata": {},
   "outputs": [
    {
     "data": {
      "text/plain": [
       "'hello earth'"
      ]
     },
     "execution_count": 203,
     "metadata": {},
     "output_type": "execute_result"
    }
   ],
   "source": [
    "t.replace('world','earth')"
   ]
  },
  {
   "cell_type": "markdown",
   "id": "dd11e764-e265-4a3f-bbce-3d0efe564143",
   "metadata": {},
   "source": [
    "t1='apple','banana','cherry','apple'\n",
    "t1"
   ]
  },
  {
   "cell_type": "code",
   "execution_count": 214,
   "id": "ccfb55fe-9755-480d-8f8f-518afb52dc59",
   "metadata": {},
   "outputs": [
    {
     "data": {
      "text/plain": [
       "'apple,banana,cherry,apple'"
      ]
     },
     "execution_count": 214,
     "metadata": {},
     "output_type": "execute_result"
    }
   ],
   "source": [
    "t1='apple,banana,cherry,apple'\n",
    "t1"
   ]
  },
  {
   "cell_type": "code",
   "execution_count": 216,
   "id": "270a4e47-f4ba-4c34-ac4c-eb8f24178906",
   "metadata": {},
   "outputs": [
    {
     "data": {
      "text/plain": [
       "'amla,banana,cherry,amla'"
      ]
     },
     "execution_count": 216,
     "metadata": {},
     "output_type": "execute_result"
    }
   ],
   "source": [
    "t1.replace('apple','amla')"
   ]
  },
  {
   "cell_type": "code",
   "execution_count": 220,
   "id": "a20cb758-66ff-4997-bf98-b237a66cade3",
   "metadata": {},
   "outputs": [
    {
     "data": {
      "text/plain": [
       "'amla,banana,cherry,apple'"
      ]
     },
     "execution_count": 220,
     "metadata": {},
     "output_type": "execute_result"
    }
   ],
   "source": [
    "t1.replace('apple','amla',1)"
   ]
  },
  {
   "cell_type": "code",
   "execution_count": null,
   "id": "669e91ae-28ca-4ac6-8947-f44ab13ee396",
   "metadata": {},
   "outputs": [],
   "source": []
  }
 ],
 "metadata": {
  "kernelspec": {
   "display_name": "Python 3 (ipykernel)",
   "language": "python",
   "name": "python3"
  },
  "language_info": {
   "codemirror_mode": {
    "name": "ipython",
    "version": 3
   },
   "file_extension": ".py",
   "mimetype": "text/x-python",
   "name": "python",
   "nbconvert_exporter": "python",
   "pygments_lexer": "ipython3",
   "version": "3.12.7"
  }
 },
 "nbformat": 4,
 "nbformat_minor": 5
}
